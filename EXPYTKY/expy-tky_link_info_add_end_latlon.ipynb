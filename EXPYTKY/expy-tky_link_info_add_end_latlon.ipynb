{
 "cells": [
  {
   "cell_type": "markdown",
   "id": "ccc1b211",
   "metadata": {},
   "source": [
    "#  read data"
   ]
  },
  {
   "cell_type": "code",
   "execution_count": 1,
   "id": "ce809079",
   "metadata": {
    "ExecuteTime": {
     "end_time": "2022-12-01T08:22:14.282906Z",
     "start_time": "2022-12-01T08:22:12.193080Z"
    }
   },
   "outputs": [],
   "source": [
    "import numpy as np\n",
    "import pandas as pd\n",
    "import geopandas as gpd\n",
    "from tqdm.notebook import tqdm\n",
    "from copy import deepcopy\n",
    "import time\n",
    "import networkx as nx\n",
    "import os\n",
    "import sys\n",
    "import matplotlib.pyplot as plt\n",
    "import pickle\n",
    "import folium\n",
    "from folium.plugins import HeatMap\n",
    "#os.environ['PROJ_LIB'] = os.path.dirname(sys.argv[0])"
   ]
  },
  {
   "cell_type": "code",
   "execution_count": 2,
   "id": "36f2a407",
   "metadata": {
    "ExecuteTime": {
     "end_time": "2022-12-01T08:32:28.661560Z",
     "start_time": "2022-12-01T08:22:14.711766Z"
    }
   },
   "outputs": [
    {
     "data": {
      "text/html": [
       "<div>\n",
       "<style scoped>\n",
       "    .dataframe tbody tr th:only-of-type {\n",
       "        vertical-align: middle;\n",
       "    }\n",
       "\n",
       "    .dataframe tbody tr th {\n",
       "        vertical-align: top;\n",
       "    }\n",
       "\n",
       "    .dataframe thead th {\n",
       "        text-align: right;\n",
       "    }\n",
       "</style>\n",
       "<table border=\"1\" class=\"dataframe\">\n",
       "  <thead>\n",
       "    <tr style=\"text-align: right;\">\n",
       "      <th></th>\n",
       "      <th>mesh_code</th>\n",
       "      <th>map_level</th>\n",
       "      <th>area_code</th>\n",
       "      <th>link_id</th>\n",
       "      <th>diff</th>\n",
       "      <th>road_type_code</th>\n",
       "      <th>lane_num_code</th>\n",
       "      <th>start_trans_id</th>\n",
       "      <th>end_tras_id</th>\n",
       "      <th>link_length</th>\n",
       "      <th>...</th>\n",
       "      <th>c724</th>\n",
       "      <th>c725</th>\n",
       "      <th>c726</th>\n",
       "      <th>c727</th>\n",
       "      <th>c728</th>\n",
       "      <th>c729</th>\n",
       "      <th>c730</th>\n",
       "      <th>c731</th>\n",
       "      <th>c732</th>\n",
       "      <th>c733</th>\n",
       "    </tr>\n",
       "  </thead>\n",
       "  <tbody>\n",
       "    <tr>\n",
       "      <th>0</th>\n",
       "      <td>362257</td>\n",
       "      <td>0</td>\n",
       "      <td>13</td>\n",
       "      <td>65536</td>\n",
       "      <td>8</td>\n",
       "      <td>8</td>\n",
       "      <td>3</td>\n",
       "      <td>1096</td>\n",
       "      <td>1112</td>\n",
       "      <td>24</td>\n",
       "      <td>...</td>\n",
       "      <td>NaN</td>\n",
       "      <td>NaN</td>\n",
       "      <td>NaN</td>\n",
       "      <td>NaN</td>\n",
       "      <td>NaN</td>\n",
       "      <td>NaN</td>\n",
       "      <td>NaN</td>\n",
       "      <td>NaN</td>\n",
       "      <td>NaN</td>\n",
       "      <td>NaN</td>\n",
       "    </tr>\n",
       "    <tr>\n",
       "      <th>1</th>\n",
       "      <td>362257</td>\n",
       "      <td>0</td>\n",
       "      <td>13</td>\n",
       "      <td>65545</td>\n",
       "      <td>16</td>\n",
       "      <td>8</td>\n",
       "      <td>3</td>\n",
       "      <td>1112</td>\n",
       "      <td>1114</td>\n",
       "      <td>62</td>\n",
       "      <td>...</td>\n",
       "      <td>NaN</td>\n",
       "      <td>NaN</td>\n",
       "      <td>NaN</td>\n",
       "      <td>NaN</td>\n",
       "      <td>NaN</td>\n",
       "      <td>NaN</td>\n",
       "      <td>NaN</td>\n",
       "      <td>NaN</td>\n",
       "      <td>NaN</td>\n",
       "      <td>NaN</td>\n",
       "    </tr>\n",
       "    <tr>\n",
       "      <th>2</th>\n",
       "      <td>362257</td>\n",
       "      <td>0</td>\n",
       "      <td>13</td>\n",
       "      <td>65562</td>\n",
       "      <td>64</td>\n",
       "      <td>8</td>\n",
       "      <td>3</td>\n",
       "      <td>1114</td>\n",
       "      <td>1116</td>\n",
       "      <td>352</td>\n",
       "      <td>...</td>\n",
       "      <td>NaN</td>\n",
       "      <td>NaN</td>\n",
       "      <td>NaN</td>\n",
       "      <td>NaN</td>\n",
       "      <td>NaN</td>\n",
       "      <td>NaN</td>\n",
       "      <td>NaN</td>\n",
       "      <td>NaN</td>\n",
       "      <td>NaN</td>\n",
       "      <td>NaN</td>\n",
       "    </tr>\n",
       "    <tr>\n",
       "      <th>3</th>\n",
       "      <td>362257</td>\n",
       "      <td>0</td>\n",
       "      <td>13</td>\n",
       "      <td>65627</td>\n",
       "      <td>73</td>\n",
       "      <td>8</td>\n",
       "      <td>3</td>\n",
       "      <td>1116</td>\n",
       "      <td>9766118</td>\n",
       "      <td>425</td>\n",
       "      <td>...</td>\n",
       "      <td>NaN</td>\n",
       "      <td>NaN</td>\n",
       "      <td>NaN</td>\n",
       "      <td>NaN</td>\n",
       "      <td>NaN</td>\n",
       "      <td>NaN</td>\n",
       "      <td>NaN</td>\n",
       "      <td>NaN</td>\n",
       "      <td>NaN</td>\n",
       "      <td>NaN</td>\n",
       "    </tr>\n",
       "    <tr>\n",
       "      <th>4</th>\n",
       "      <td>362257</td>\n",
       "      <td>0</td>\n",
       "      <td>13</td>\n",
       "      <td>65701</td>\n",
       "      <td>31</td>\n",
       "      <td>8</td>\n",
       "      <td>3</td>\n",
       "      <td>9766118</td>\n",
       "      <td>1004</td>\n",
       "      <td>174</td>\n",
       "      <td>...</td>\n",
       "      <td>NaN</td>\n",
       "      <td>NaN</td>\n",
       "      <td>NaN</td>\n",
       "      <td>NaN</td>\n",
       "      <td>NaN</td>\n",
       "      <td>NaN</td>\n",
       "      <td>NaN</td>\n",
       "      <td>NaN</td>\n",
       "      <td>NaN</td>\n",
       "      <td>NaN</td>\n",
       "    </tr>\n",
       "  </tbody>\n",
       "</table>\n",
       "<p>5 rows × 750 columns</p>\n",
       "</div>"
      ],
      "text/plain": [
       "   mesh_code  map_level  area_code  link_id  diff  road_type_code  \\\n",
       "0     362257          0         13    65536     8               8   \n",
       "1     362257          0         13    65545    16               8   \n",
       "2     362257          0         13    65562    64               8   \n",
       "3     362257          0         13    65627    73               8   \n",
       "4     362257          0         13    65701    31               8   \n",
       "\n",
       "   lane_num_code  start_trans_id  end_tras_id  link_length  ...  c724  c725  \\\n",
       "0              3            1096         1112           24  ...   NaN   NaN   \n",
       "1              3            1112         1114           62  ...   NaN   NaN   \n",
       "2              3            1114         1116          352  ...   NaN   NaN   \n",
       "3              3            1116      9766118          425  ...   NaN   NaN   \n",
       "4              3         9766118         1004          174  ...   NaN   NaN   \n",
       "\n",
       "   c726  c727  c728  c729  c730  c731  c732  c733  \n",
       "0   NaN   NaN   NaN   NaN   NaN   NaN   NaN   NaN  \n",
       "1   NaN   NaN   NaN   NaN   NaN   NaN   NaN   NaN  \n",
       "2   NaN   NaN   NaN   NaN   NaN   NaN   NaN   NaN  \n",
       "3   NaN   NaN   NaN   NaN   NaN   NaN   NaN   NaN  \n",
       "4   NaN   NaN   NaN   NaN   NaN   NaN   NaN   NaN  \n",
       "\n",
       "[5 rows x 750 columns]"
      ]
     },
     "execution_count": 2,
     "metadata": {},
     "output_type": "execute_result"
    }
   ],
   "source": [
    "# 55.6s\n",
    "#file_path = 'data/blink_data/BLinkDataPt2_2005.csv'\n",
    "file_path = 'data/blink_data/BLinkDataPt2_2005.csv'\n",
    "\n",
    "col_names = ['c{0:02d}'.format(i) for i in range(734) ]\n",
    "col_names = ['mesh_code', 'map_level','area_code', 'link_id', 'diff',\n",
    "             'road_type_code','lane_num_code', \n",
    "             'start_trans_id', 'end_tras_id',\n",
    "             'link_length', 'link_type_code',\n",
    "             'oneway_limit_flag','stop_way_limit_flag',\n",
    "             'start_lon','start_lat', 'latlng_diff_num'] + col_names\n",
    "df = pd.read_csv(file_path, encoding='shift_jis', names=col_names, skiprows=3)\n",
    "df.head()"
   ]
  },
  {
   "cell_type": "code",
   "execution_count": 3,
   "id": "7250f658",
   "metadata": {
    "ExecuteTime": {
     "end_time": "2022-12-01T08:32:28.714723Z",
     "start_time": "2022-12-01T08:32:28.665911Z"
    }
   },
   "outputs": [
    {
     "name": "stdout",
     "output_type": "stream",
     "text": [
      "<class 'pandas.core.frame.DataFrame'>\n",
      "RangeIndex: 12789536 entries, 0 to 12789535\n",
      "Columns: 750 entries, mesh_code to c733\n",
      "dtypes: float64(732), int64(18)\n",
      "memory usage: 71.5 GB\n"
     ]
    }
   ],
   "source": [
    "df.info()"
   ]
  },
  {
   "cell_type": "code",
   "execution_count": 4,
   "id": "96f757b8",
   "metadata": {
    "ExecuteTime": {
     "end_time": "2022-12-01T08:32:30.695965Z",
     "start_time": "2022-12-01T08:32:28.716884Z"
    }
   },
   "outputs": [
    {
     "name": "stderr",
     "output_type": "stream",
     "text": [
      "/anaconda3/envs/datamining/lib/python3.7/site-packages/ipykernel_launcher.py:1: FutureWarning: Boolean inputs to the `inclusive` argument are deprecated infavour of `both` or `neither`.\n",
      "  \"\"\"Entry point for launching an IPython kernel.\n"
     ]
    }
   ],
   "source": [
    "# restrict df into 首都高部分\n",
    "new_df=df[df['start_lon'].between(139.537*128*3600, 139.947*128*3600, inclusive=True) & df['start_lat'].between(35.36*128*3600, 35.90*128*3600, inclusive=True)]"
   ]
  },
  {
   "cell_type": "code",
   "execution_count": 5,
   "id": "c0be7b61",
   "metadata": {
    "ExecuteTime": {
     "end_time": "2022-12-01T08:34:05.867626Z",
     "start_time": "2022-12-01T08:32:30.699712Z"
    }
   },
   "outputs": [
    {
     "name": "stderr",
     "output_type": "stream",
     "text": [
      "/anaconda3/envs/datamining/lib/python3.7/site-packages/ipykernel_launcher.py:1: SettingWithCopyWarning: \n",
      "A value is trying to be set on a copy of a slice from a DataFrame.\n",
      "Try using .loc[row_indexer,col_indexer] = value instead\n",
      "\n",
      "See the caveats in the documentation: https://pandas.pydata.org/pandas-docs/stable/user_guide/indexing.html#returning-a-view-versus-a-copy\n",
      "  \"\"\"Entry point for launching an IPython kernel.\n"
     ]
    }
   ],
   "source": [
    "new_df['combine_diff'] = [[e for e in row if e==e] for row in new_df[new_df.columns[16:]].values.tolist()]"
   ]
  },
  {
   "cell_type": "code",
   "execution_count": 6,
   "id": "0508ad97",
   "metadata": {
    "ExecuteTime": {
     "end_time": "2022-12-01T08:34:05.927688Z",
     "start_time": "2022-12-01T08:34:05.870743Z"
    }
   },
   "outputs": [],
   "source": [
    "new_df=new_df[['mesh_code', 'map_level','area_code', 'link_id', 'diff',\n",
    "             'road_type_code','lane_num_code', \n",
    "             'start_trans_id', 'end_tras_id',\n",
    "             'link_length', 'link_type_code',\n",
    "             'oneway_limit_flag','stop_way_limit_flag',\n",
    "             'start_lon','start_lat', 'latlng_diff_num', \"combine_diff\"]]"
   ]
  },
  {
   "cell_type": "code",
   "execution_count": 7,
   "id": "c91c77d3",
   "metadata": {
    "ExecuteTime": {
     "end_time": "2022-12-01T08:34:05.960422Z",
     "start_time": "2022-12-01T08:34:05.930840Z"
    }
   },
   "outputs": [
    {
     "data": {
      "text/html": [
       "<div>\n",
       "<style scoped>\n",
       "    .dataframe tbody tr th:only-of-type {\n",
       "        vertical-align: middle;\n",
       "    }\n",
       "\n",
       "    .dataframe tbody tr th {\n",
       "        vertical-align: top;\n",
       "    }\n",
       "\n",
       "    .dataframe thead th {\n",
       "        text-align: right;\n",
       "    }\n",
       "</style>\n",
       "<table border=\"1\" class=\"dataframe\">\n",
       "  <thead>\n",
       "    <tr style=\"text-align: right;\">\n",
       "      <th></th>\n",
       "      <th>mesh_code</th>\n",
       "      <th>map_level</th>\n",
       "      <th>area_code</th>\n",
       "      <th>link_id</th>\n",
       "      <th>diff</th>\n",
       "      <th>road_type_code</th>\n",
       "      <th>lane_num_code</th>\n",
       "      <th>start_trans_id</th>\n",
       "      <th>end_tras_id</th>\n",
       "      <th>link_length</th>\n",
       "      <th>link_type_code</th>\n",
       "      <th>oneway_limit_flag</th>\n",
       "      <th>stop_way_limit_flag</th>\n",
       "      <th>start_lon</th>\n",
       "      <th>start_lat</th>\n",
       "      <th>latlng_diff_num</th>\n",
       "      <th>combine_diff</th>\n",
       "    </tr>\n",
       "  </thead>\n",
       "  <tbody>\n",
       "    <tr>\n",
       "      <th>6826372</th>\n",
       "      <td>533904</td>\n",
       "      <td>0</td>\n",
       "      <td>27</td>\n",
       "      <td>5647656</td>\n",
       "      <td>16</td>\n",
       "      <td>8</td>\n",
       "      <td>2</td>\n",
       "      <td>5020486</td>\n",
       "      <td>5021661</td>\n",
       "      <td>86</td>\n",
       "      <td>1</td>\n",
       "      <td>0</td>\n",
       "      <td>0</td>\n",
       "      <td>64306431</td>\n",
       "      <td>16293947</td>\n",
       "      <td>4</td>\n",
       "      <td>[-98.0, 154.0, -39.0, 56.0, -24.0, 64.0, -14.0...</td>\n",
       "    </tr>\n",
       "    <tr>\n",
       "      <th>6826373</th>\n",
       "      <td>533904</td>\n",
       "      <td>0</td>\n",
       "      <td>27</td>\n",
       "      <td>5647673</td>\n",
       "      <td>8</td>\n",
       "      <td>8</td>\n",
       "      <td>2</td>\n",
       "      <td>5021661</td>\n",
       "      <td>5021438</td>\n",
       "      <td>23</td>\n",
       "      <td>1</td>\n",
       "      <td>0</td>\n",
       "      <td>0</td>\n",
       "      <td>64306256</td>\n",
       "      <td>16294272</td>\n",
       "      <td>2</td>\n",
       "      <td>[-4.0, 26.0, -32.0, 61.0]</td>\n",
       "    </tr>\n",
       "    <tr>\n",
       "      <th>6826374</th>\n",
       "      <td>533904</td>\n",
       "      <td>0</td>\n",
       "      <td>27</td>\n",
       "      <td>5647682</td>\n",
       "      <td>16</td>\n",
       "      <td>8</td>\n",
       "      <td>2</td>\n",
       "      <td>5021438</td>\n",
       "      <td>5021439</td>\n",
       "      <td>52</td>\n",
       "      <td>1</td>\n",
       "      <td>0</td>\n",
       "      <td>0</td>\n",
       "      <td>64306220</td>\n",
       "      <td>16294359</td>\n",
       "      <td>1</td>\n",
       "      <td>[-182.0, 155.0]</td>\n",
       "    </tr>\n",
       "    <tr>\n",
       "      <th>6826375</th>\n",
       "      <td>533904</td>\n",
       "      <td>0</td>\n",
       "      <td>27</td>\n",
       "      <td>5647699</td>\n",
       "      <td>8</td>\n",
       "      <td>8</td>\n",
       "      <td>2</td>\n",
       "      <td>5021439</td>\n",
       "      <td>5020487</td>\n",
       "      <td>22</td>\n",
       "      <td>1</td>\n",
       "      <td>0</td>\n",
       "      <td>0</td>\n",
       "      <td>64306038</td>\n",
       "      <td>16294514</td>\n",
       "      <td>2</td>\n",
       "      <td>[-32.0, 39.0, -35.0, 33.0]</td>\n",
       "    </tr>\n",
       "    <tr>\n",
       "      <th>6826376</th>\n",
       "      <td>533904</td>\n",
       "      <td>0</td>\n",
       "      <td>27</td>\n",
       "      <td>5647708</td>\n",
       "      <td>8</td>\n",
       "      <td>8</td>\n",
       "      <td>2</td>\n",
       "      <td>5020487</td>\n",
       "      <td>5020489</td>\n",
       "      <td>38</td>\n",
       "      <td>1</td>\n",
       "      <td>0</td>\n",
       "      <td>0</td>\n",
       "      <td>64305971</td>\n",
       "      <td>16294586</td>\n",
       "      <td>2</td>\n",
       "      <td>[-21.0, 75.0, -14.0, 82.0]</td>\n",
       "    </tr>\n",
       "    <tr>\n",
       "      <th>...</th>\n",
       "      <td>...</td>\n",
       "      <td>...</td>\n",
       "      <td>...</td>\n",
       "      <td>...</td>\n",
       "      <td>...</td>\n",
       "      <td>...</td>\n",
       "      <td>...</td>\n",
       "      <td>...</td>\n",
       "      <td>...</td>\n",
       "      <td>...</td>\n",
       "      <td>...</td>\n",
       "      <td>...</td>\n",
       "      <td>...</td>\n",
       "      <td>...</td>\n",
       "      <td>...</td>\n",
       "      <td>...</td>\n",
       "      <td>...</td>\n",
       "    </tr>\n",
       "    <tr>\n",
       "      <th>7873403</th>\n",
       "      <td>533967</td>\n",
       "      <td>0</td>\n",
       "      <td>27</td>\n",
       "      <td>119345661</td>\n",
       "      <td>8</td>\n",
       "      <td>8</td>\n",
       "      <td>3</td>\n",
       "      <td>9906705</td>\n",
       "      <td>6242043</td>\n",
       "      <td>23</td>\n",
       "      <td>1</td>\n",
       "      <td>0</td>\n",
       "      <td>0</td>\n",
       "      <td>64483781</td>\n",
       "      <td>16529645</td>\n",
       "      <td>1</td>\n",
       "      <td>[-18.0, -96.0]</td>\n",
       "    </tr>\n",
       "    <tr>\n",
       "      <th>7873404</th>\n",
       "      <td>533967</td>\n",
       "      <td>0</td>\n",
       "      <td>27</td>\n",
       "      <td>119345679</td>\n",
       "      <td>24</td>\n",
       "      <td>8</td>\n",
       "      <td>3</td>\n",
       "      <td>9873991</td>\n",
       "      <td>6221946</td>\n",
       "      <td>126</td>\n",
       "      <td>1</td>\n",
       "      <td>0</td>\n",
       "      <td>0</td>\n",
       "      <td>64484667</td>\n",
       "      <td>16529917</td>\n",
       "      <td>3</td>\n",
       "      <td>[-53.0, -2.0, -288.0, 39.0, -292.0, 40.0]</td>\n",
       "    </tr>\n",
       "    <tr>\n",
       "      <th>7873410</th>\n",
       "      <td>533967</td>\n",
       "      <td>0</td>\n",
       "      <td>27</td>\n",
       "      <td>119485056</td>\n",
       "      <td>16</td>\n",
       "      <td>8198</td>\n",
       "      <td>2</td>\n",
       "      <td>9917801</td>\n",
       "      <td>6207004</td>\n",
       "      <td>80</td>\n",
       "      <td>1</td>\n",
       "      <td>0</td>\n",
       "      <td>0</td>\n",
       "      <td>64478023</td>\n",
       "      <td>16516130</td>\n",
       "      <td>3</td>\n",
       "      <td>[32.0, -16.0, 21.0, -19.0, 46.0, -277.0]</td>\n",
       "    </tr>\n",
       "    <tr>\n",
       "      <th>7873411</th>\n",
       "      <td>533967</td>\n",
       "      <td>0</td>\n",
       "      <td>27</td>\n",
       "      <td>119485082</td>\n",
       "      <td>8</td>\n",
       "      <td>8198</td>\n",
       "      <td>3</td>\n",
       "      <td>6211218</td>\n",
       "      <td>9917802</td>\n",
       "      <td>45</td>\n",
       "      <td>1</td>\n",
       "      <td>0</td>\n",
       "      <td>0</td>\n",
       "      <td>64478027</td>\n",
       "      <td>16516383</td>\n",
       "      <td>3</td>\n",
       "      <td>[17.0, -103.0, 28.0, -23.0, 46.0, -33.0]</td>\n",
       "    </tr>\n",
       "    <tr>\n",
       "      <th>7873412</th>\n",
       "      <td>533967</td>\n",
       "      <td>0</td>\n",
       "      <td>27</td>\n",
       "      <td>119485100</td>\n",
       "      <td>32</td>\n",
       "      <td>8</td>\n",
       "      <td>3</td>\n",
       "      <td>6217167</td>\n",
       "      <td>9917803</td>\n",
       "      <td>151</td>\n",
       "      <td>1</td>\n",
       "      <td>0</td>\n",
       "      <td>1</td>\n",
       "      <td>64473024</td>\n",
       "      <td>16526355</td>\n",
       "      <td>2</td>\n",
       "      <td>[-257.0, -155.0, -379.0, -202.0]</td>\n",
       "    </tr>\n",
       "  </tbody>\n",
       "</table>\n",
       "<p>611494 rows × 17 columns</p>\n",
       "</div>"
      ],
      "text/plain": [
       "         mesh_code  map_level  area_code    link_id  diff  road_type_code  \\\n",
       "6826372     533904          0         27    5647656    16               8   \n",
       "6826373     533904          0         27    5647673     8               8   \n",
       "6826374     533904          0         27    5647682    16               8   \n",
       "6826375     533904          0         27    5647699     8               8   \n",
       "6826376     533904          0         27    5647708     8               8   \n",
       "...            ...        ...        ...        ...   ...             ...   \n",
       "7873403     533967          0         27  119345661     8               8   \n",
       "7873404     533967          0         27  119345679    24               8   \n",
       "7873410     533967          0         27  119485056    16            8198   \n",
       "7873411     533967          0         27  119485082     8            8198   \n",
       "7873412     533967          0         27  119485100    32               8   \n",
       "\n",
       "         lane_num_code  start_trans_id  end_tras_id  link_length  \\\n",
       "6826372              2         5020486      5021661           86   \n",
       "6826373              2         5021661      5021438           23   \n",
       "6826374              2         5021438      5021439           52   \n",
       "6826375              2         5021439      5020487           22   \n",
       "6826376              2         5020487      5020489           38   \n",
       "...                ...             ...          ...          ...   \n",
       "7873403              3         9906705      6242043           23   \n",
       "7873404              3         9873991      6221946          126   \n",
       "7873410              2         9917801      6207004           80   \n",
       "7873411              3         6211218      9917802           45   \n",
       "7873412              3         6217167      9917803          151   \n",
       "\n",
       "         link_type_code  oneway_limit_flag  stop_way_limit_flag  start_lon  \\\n",
       "6826372               1                  0                    0   64306431   \n",
       "6826373               1                  0                    0   64306256   \n",
       "6826374               1                  0                    0   64306220   \n",
       "6826375               1                  0                    0   64306038   \n",
       "6826376               1                  0                    0   64305971   \n",
       "...                 ...                ...                  ...        ...   \n",
       "7873403               1                  0                    0   64483781   \n",
       "7873404               1                  0                    0   64484667   \n",
       "7873410               1                  0                    0   64478023   \n",
       "7873411               1                  0                    0   64478027   \n",
       "7873412               1                  0                    1   64473024   \n",
       "\n",
       "         start_lat  latlng_diff_num  \\\n",
       "6826372   16293947                4   \n",
       "6826373   16294272                2   \n",
       "6826374   16294359                1   \n",
       "6826375   16294514                2   \n",
       "6826376   16294586                2   \n",
       "...            ...              ...   \n",
       "7873403   16529645                1   \n",
       "7873404   16529917                3   \n",
       "7873410   16516130                3   \n",
       "7873411   16516383                3   \n",
       "7873412   16526355                2   \n",
       "\n",
       "                                              combine_diff  \n",
       "6826372  [-98.0, 154.0, -39.0, 56.0, -24.0, 64.0, -14.0...  \n",
       "6826373                          [-4.0, 26.0, -32.0, 61.0]  \n",
       "6826374                                    [-182.0, 155.0]  \n",
       "6826375                         [-32.0, 39.0, -35.0, 33.0]  \n",
       "6826376                         [-21.0, 75.0, -14.0, 82.0]  \n",
       "...                                                    ...  \n",
       "7873403                                     [-18.0, -96.0]  \n",
       "7873404          [-53.0, -2.0, -288.0, 39.0, -292.0, 40.0]  \n",
       "7873410           [32.0, -16.0, 21.0, -19.0, 46.0, -277.0]  \n",
       "7873411           [17.0, -103.0, 28.0, -23.0, 46.0, -33.0]  \n",
       "7873412                   [-257.0, -155.0, -379.0, -202.0]  \n",
       "\n",
       "[611494 rows x 17 columns]"
      ]
     },
     "execution_count": 7,
     "metadata": {},
     "output_type": "execute_result"
    }
   ],
   "source": [
    "new_df"
   ]
  },
  {
   "cell_type": "code",
   "execution_count": null,
   "id": "6ef9c2b6",
   "metadata": {
    "ExecuteTime": {
     "end_time": "2022-11-30T03:25:41.940521Z",
     "start_time": "2022-11-30T03:25:41.903416Z"
    }
   },
   "outputs": [],
   "source": [
    "## 前点に基づいた加算\n",
    "single_line= new_df.iloc[0]\n",
    "display(single_line)\n",
    "print(single_line[\"combine_diff\"],len(single_line[\"combine_diff\"]))\n",
    "\n",
    "new_combine_list=[]\n",
    "for i in range(len(single_line[\"combine_diff\"])):\n",
    "    if i== 0:\n",
    "        new_combine_list.append(single_line[\"start_lon\"]+single_line[\"combine_diff\"][i])\n",
    "    elif i==1:\n",
    "        new_combine_list.append(single_line[\"start_lat\"]+single_line[\"combine_diff\"][i])\n",
    "    else:\n",
    "        new_combine_list.append(new_combine_list[i-2]+single_line[\"combine_diff\"][i])\n",
    "\n",
    "\n",
    "point_list= [[]]*(int(len(single_line[\"combine_diff\"])/2)+1)\n",
    "for i in range(len(point_list)):\n",
    "    if i ==0:\n",
    "        point_list[i]=[single_line[\"start_lat\"]/128/3600,single_line[\"start_lon\"]/128/3600] #/128/3600\n",
    "    else:\n",
    "        point_list[i]=[new_combine_list[i*2-1]/128/3600, new_combine_list[i*2-2]/128/3600]\n",
    "\n",
    "#確認用 必要なければコメントアウト\n",
    "# maps=folium.Map(location= point_list[0], zoom_start=15,title=\"Stamen Terrain\")\n",
    "# folium.PolyLine(locations=point_list,color=\"red\").add_to(maps)\n",
    "# degree = vincenty_inverse(point_list[-2], point_list[-1])['azimuth1']\n",
    "# folium.RegularPolygonMarker(location=point_list[-1], color=\"red\", number_of_sides=3, radius=10, rotation=270 + degree,fill=True,fill_opacity=1).add_to(maps)\n",
    "# display(maps)"
   ]
  },
  {
   "cell_type": "code",
   "execution_count": null,
   "id": "7d5d82e0",
   "metadata": {
    "ExecuteTime": {
     "end_time": "2022-11-30T03:44:12.366706Z",
     "start_time": "2022-11-30T03:41:59.118549Z"
    }
   },
   "outputs": [],
   "source": [
    "## get the last point\n",
    "end_lon_list, end_lat_list =[],[]\n",
    "for i in tqdm(range(len(new_df))):\n",
    "    single_line = new_df.iloc[i]\n",
    "    new_combine_list=[]\n",
    "    for m in range(len(single_line[\"combine_diff\"])):\n",
    "        if m== 0:\n",
    "            new_combine_list.append(single_line[\"start_lon\"]+single_line[\"combine_diff\"][m])\n",
    "        elif m==1:\n",
    "            new_combine_list.append(single_line[\"start_lat\"]+single_line[\"combine_diff\"][m])\n",
    "        else:\n",
    "            new_combine_list.append(new_combine_list[m-2]+single_line[\"combine_diff\"][m])\n",
    "            \n",
    "    point_list= [[]]*(int(len(single_line[\"combine_diff\"])/2)+1)\n",
    "    for n in range(len(point_list)):\n",
    "        if n ==0:\n",
    "            point_list[n]=[single_line[\"start_lat\"],single_line[\"start_lon\"]] #/128/3600\n",
    "        else:\n",
    "            point_list[n]=[new_combine_list[n*2-1], new_combine_list[n*2-2]]\n",
    "    end_lon = point_list[-1][1]\n",
    "    end_lat = point_list[-1][0]\n",
    "    #print(start_lon,start_lat,combine_diff,end_lon,end_lat)\n",
    "    end_lon_list.append(end_lon)\n",
    "    end_lat_list.append(end_lat)\n",
    "\n",
    "print(len(end_lon_list),len(end_lat_list))\n"
   ]
  },
  {
   "cell_type": "code",
   "execution_count": null,
   "id": "9fee8a9f",
   "metadata": {
    "ExecuteTime": {
     "end_time": "2022-11-30T03:49:58.961776Z",
     "start_time": "2022-11-30T03:49:58.482066Z"
    }
   },
   "outputs": [],
   "source": [
    "print(end_lat_list[0]/128/3600,end_lon_list[0]/128/3600)\n",
    "new_df[\"end_lat\"]=end_lat_list\n",
    "new_df[\"end_lon\"]=end_lon_list\n",
    "new_df"
   ]
  },
  {
   "cell_type": "code",
   "execution_count": null,
   "id": "0a44d980",
   "metadata": {
    "ExecuteTime": {
     "end_time": "2022-11-30T03:50:29.295795Z",
     "start_time": "2022-11-30T03:50:29.220795Z"
    }
   },
   "outputs": [],
   "source": [
    "print('Unique area codes: ', new_df.area_code.unique())\n",
    "print('No. of unique road types: ', new_df.road_type_code.nunique())\n",
    "print('No. of unique link_ids: ', new_df.link_id.nunique())\n",
    "print('No. of duplicated link_ids:', new_df.link_id.duplicated().sum())"
   ]
  },
  {
   "cell_type": "code",
   "execution_count": null,
   "id": "bc6c7b29",
   "metadata": {
    "ExecuteTime": {
     "end_time": "2022-11-30T03:50:38.003310Z",
     "start_time": "2022-11-30T03:50:33.030819Z"
    },
    "scrolled": true
   },
   "outputs": [],
   "source": [
    "blink = pd.read_csv('data/blink_data/BlinkData.csv', encoding='shift_jis')\n",
    "blink = blink[blink.roadname.notnull()]\n",
    "blink.columns = ['area_code', 'link_id', 'diff', 'roadname', 'routenumber',\n",
    "       'roadtype', 'link_type_code', 'tollroad', 'motorway', 'hwy', 'oneway_limit_flag',\n",
    "       'speedlimit', 'hwyupdown']\n",
    "blink"
   ]
  },
  {
   "cell_type": "code",
   "execution_count": null,
   "id": "ccd2a0ee",
   "metadata": {
    "ExecuteTime": {
     "end_time": "2022-11-30T03:50:45.947548Z",
     "start_time": "2022-11-30T03:50:45.259455Z"
    }
   },
   "outputs": [],
   "source": [
    "print('Unique Area Codes:', blink.area_code.unique())\n",
    "print('No. of unique roadnames:', blink.roadname.nunique())\n",
    "print('No. of unique route numbers:', blink.routenumber.nunique())\n",
    "print('No. of unique link_ids:', blink.link_id.nunique())\n",
    "print('No. of duplicated link_ids:', blink.link_id.duplicated().sum())\n",
    "print('No. of blink link_id not present in the main df:', len(blink) - blink.link_id.isin(df.link_id).sum())"
   ]
  },
  {
   "cell_type": "code",
   "execution_count": null,
   "id": "efcc6298",
   "metadata": {
    "ExecuteTime": {
     "end_time": "2022-11-30T03:53:57.572361Z",
     "start_time": "2022-11-30T03:53:57.218943Z"
    }
   },
   "outputs": [],
   "source": [
    "#Merging of both dataframes - df and blink (on common columns)\n",
    "blinkmerged = pd.merge(blink, new_df[['mesh_code', 'area_code', 'link_id', 'diff', 'road_type_code', 'lane_num_code', \n",
    "                                  'start_trans_id', 'end_tras_id', 'link_length', 'link_type_code', 'start_lon', 'start_lat',\"end_lon\",\"end_lat\"]], \n",
    "                       how='left', on=['area_code', 'link_id', 'diff'])"
   ]
  },
  {
   "cell_type": "code",
   "execution_count": null,
   "id": "1816e6a5",
   "metadata": {
    "ExecuteTime": {
     "end_time": "2022-11-30T03:55:14.663611Z",
     "start_time": "2022-11-30T03:55:14.587294Z"
    }
   },
   "outputs": [],
   "source": [
    "blinkmerged.isna().sum()"
   ]
  },
  {
   "cell_type": "code",
   "execution_count": null,
   "id": "32cd7c52",
   "metadata": {
    "ExecuteTime": {
     "end_time": "2022-11-30T03:55:23.650897Z",
     "start_time": "2022-11-30T03:55:23.589483Z"
    }
   },
   "outputs": [],
   "source": [
    "for road in list(blinkmerged[\"roadname\"].unique()):\n",
    "    if \"北西\" in road:\n",
    "        print(road)"
   ]
  },
  {
   "cell_type": "code",
   "execution_count": null,
   "id": "805253ef",
   "metadata": {
    "ExecuteTime": {
     "end_time": "2022-11-30T03:55:27.073706Z",
     "start_time": "2022-11-30T03:55:27.068570Z"
    }
   },
   "outputs": [],
   "source": [
    "# len=25\n",
    "capital_road_list =[\n",
    "    \"首都高速湾岸線\",\n",
    "    \"首都高速神奈川３号狩場線\",\n",
    "    \"首都高速神奈川２号三ツ沢線\",\n",
    "    \"首都高速神奈川１号横羽線\",\n",
    "    \"首都高速１号羽田線\",\n",
    "    \"首都高速神奈川５号大黒線\",\n",
    "    \"首都高速神奈川６号川崎線\",\n",
    "    \"首都高速３号渋谷線\",\n",
    "    \"首都高速２号目黒線\",\n",
    "    \"首都高速４号新宿線\",\n",
    "    \"首都高速中央環状線\",\n",
    "    \"首都高速都心環状線\",\n",
    "    \"首都高速１号上野線\",\n",
    "    \"首都高速１１号台場線\",\n",
    "    \"首都高速１０号晴海線\",\n",
    "    \"首都高速９号深川線\",\n",
    "    \"首都高速５号池袋線\",\n",
    "    \"首都高速埼玉大宮線\",\n",
    "    \"首都高速八重洲線\",\n",
    "    \"首都高速６号向島線\",\n",
    "    \"首都高速７号小松川線\",\n",
    "    \"首都高速６号三郷線\",\n",
    "    \"首都高速川口線\",\n",
    "    \"首都高速埼玉新都心線\",\n",
    "    \"首都高速神奈川７号横浜北線\"\n",
    "]"
   ]
  },
  {
   "cell_type": "code",
   "execution_count": null,
   "id": "4069755a",
   "metadata": {
    "ExecuteTime": {
     "end_time": "2022-11-30T03:55:31.316363Z",
     "start_time": "2022-11-30T03:55:31.219526Z"
    }
   },
   "outputs": [],
   "source": [
    "blinkmerged_capital=blinkmerged.loc[blinkmerged[\"roadname\"].isin(capital_road_list)]\n",
    "blinkmerged_capital"
   ]
  },
  {
   "cell_type": "code",
   "execution_count": null,
   "id": "58a5fb55",
   "metadata": {
    "ExecuteTime": {
     "end_time": "2022-11-30T03:55:41.172448Z",
     "start_time": "2022-11-30T03:55:41.159630Z"
    }
   },
   "outputs": [],
   "source": [
    "### restrict the lat lon to  and mmlatitude <= 35.90 and mmlatitude >= 35.36  and mmlongitude <= 139.947   and mmlongitude >= 139.537\n",
    "blinkmerged_capital_new= blinkmerged_capital[blinkmerged_capital['start_lon'].between(139.537*128*3600, 139.947*128*3600, inclusive=True)& blinkmerged_capital['start_lat'].between(35.36*128*3600, 35.90*128*3600, inclusive=True)]"
   ]
  },
  {
   "cell_type": "code",
   "execution_count": null,
   "id": "366adb7b",
   "metadata": {
    "ExecuteTime": {
     "end_time": "2022-11-30T03:55:43.032717Z",
     "start_time": "2022-11-30T03:55:42.991806Z"
    }
   },
   "outputs": [],
   "source": [
    "blinkmerged_capital_new"
   ]
  },
  {
   "cell_type": "code",
   "execution_count": null,
   "id": "95bd5839",
   "metadata": {
    "ExecuteTime": {
     "end_time": "2022-11-30T03:55:50.043708Z",
     "start_time": "2022-11-30T03:55:50.021063Z"
    }
   },
   "outputs": [],
   "source": [
    "blinkmerged_capital_new.info()"
   ]
  },
  {
   "cell_type": "markdown",
   "id": "c84f629f",
   "metadata": {},
   "source": [
    "# analysis data for longest path\n",
    "## step0： create connect_dic  {linkid:[linkid1,linkid2]}"
   ]
  },
  {
   "cell_type": "code",
   "execution_count": null,
   "id": "056958c7",
   "metadata": {
    "ExecuteTime": {
     "end_time": "2022-11-30T03:56:17.092571Z",
     "start_time": "2022-11-30T03:56:14.779149Z"
    }
   },
   "outputs": [],
   "source": [
    "connect_dic={}\n",
    "for linkid in tqdm(blinkmerged_capital_new[\"link_id\"]):\n",
    "    for _end_crs_id in blinkmerged_capital_new[blinkmerged_capital_new['link_id']==linkid]['end_tras_id'].values:\n",
    "        for end_link in blinkmerged_capital_new[blinkmerged_capital_new['start_trans_id']==_end_crs_id]['link_id'].values:\n",
    "            if linkid not in connect_dic.keys():\n",
    "                connect_dic[linkid]=[end_link]\n",
    "            else:\n",
    "                if end_link not in connect_dic[linkid]:\n",
    "                    connect_dic[linkid].append(end_link)"
   ]
  },
  {
   "cell_type": "code",
   "execution_count": null,
   "id": "3ce7058e",
   "metadata": {
    "ExecuteTime": {
     "end_time": "2022-11-30T03:56:18.123895Z",
     "start_time": "2022-11-30T03:56:18.117141Z"
    }
   },
   "outputs": [],
   "source": [
    "len(connect_dic.keys())"
   ]
  },
  {
   "cell_type": "code",
   "execution_count": null,
   "id": "e80ed3e5",
   "metadata": {
    "ExecuteTime": {
     "end_time": "2022-11-30T03:56:19.437549Z",
     "start_time": "2022-11-30T03:56:19.379696Z"
    }
   },
   "outputs": [],
   "source": [
    "connect_dic1=deepcopy(connect_dic)\n",
    "G = nx.DiGraph()\n",
    "for key in connect_dic1.keys():\n",
    "    for value in connect_dic1[key]:\n",
    "        G.add_edge(key, value)"
   ]
  },
  {
   "cell_type": "code",
   "execution_count": null,
   "id": "b621e521",
   "metadata": {
    "ExecuteTime": {
     "end_time": "2022-11-30T03:56:22.109877Z",
     "start_time": "2022-11-30T03:56:22.102291Z"
    }
   },
   "outputs": [],
   "source": [
    "print(G.number_of_nodes())"
   ]
  },
  {
   "cell_type": "code",
   "execution_count": null,
   "id": "060139aa",
   "metadata": {
    "ExecuteTime": {
     "end_time": "2022-11-30T03:56:23.564961Z",
     "start_time": "2022-11-30T03:56:23.541739Z"
    }
   },
   "outputs": [],
   "source": [
    "nodes = list(G.nodes)"
   ]
  },
  {
   "cell_type": "markdown",
   "id": "c122896e",
   "metadata": {},
   "source": [
    "## create adjacency_matrix"
   ]
  },
  {
   "cell_type": "code",
   "execution_count": null,
   "id": "ab428e4f",
   "metadata": {
    "ExecuteTime": {
     "end_time": "2022-01-30T13:55:41.256694Z",
     "start_time": "2022-01-30T13:55:41.200143Z"
    }
   },
   "outputs": [],
   "source": [
    "#M1 = nx.adjacency_matrix(G,nodelist=nodes)\n",
    "M1=nx.to_pandas_adjacency(G, nodelist=nodes, dtype=int)"
   ]
  },
  {
   "cell_type": "code",
   "execution_count": null,
   "id": "6331469a",
   "metadata": {
    "ExecuteTime": {
     "end_time": "2022-01-30T13:55:41.671520Z",
     "start_time": "2022-01-30T13:55:41.667273Z"
    }
   },
   "outputs": [],
   "source": [
    "len(M1)"
   ]
  },
  {
   "cell_type": "code",
   "execution_count": null,
   "id": "7b0fd518",
   "metadata": {
    "ExecuteTime": {
     "end_time": "2022-01-30T13:55:41.985957Z",
     "start_time": "2022-01-30T13:55:41.953887Z"
    }
   },
   "outputs": [],
   "source": [
    "M1"
   ]
  },
  {
   "cell_type": "code",
   "execution_count": null,
   "id": "a9a15e80",
   "metadata": {
    "ExecuteTime": {
     "end_time": "2022-01-30T13:55:42.299428Z",
     "start_time": "2022-01-30T13:55:42.294519Z"
    }
   },
   "outputs": [],
   "source": [
    "type(M1)"
   ]
  },
  {
   "cell_type": "code",
   "execution_count": null,
   "id": "d12d0fab",
   "metadata": {
    "ExecuteTime": {
     "end_time": "2021-12-09T10:37:33.332982Z",
     "start_time": "2021-12-09T10:37:31.353521Z"
    }
   },
   "outputs": [],
   "source": [
    "#np.savetxt('result/visualization/matrix.txt',M1.toarray(), fmt='%d',)\n",
    "M1.to_csv('result/metrix/capital_01_relation.csv')"
   ]
  },
  {
   "cell_type": "markdown",
   "id": "d1148899",
   "metadata": {},
   "source": [
    "## get all path"
   ]
  },
  {
   "cell_type": "code",
   "execution_count": null,
   "id": "526d436a",
   "metadata": {
    "ExecuteTime": {
     "end_time": "2022-02-01T00:40:24.061222Z",
     "start_time": "2022-01-31T23:57:15.915590Z"
    },
    "scrolled": true
   },
   "outputs": [],
   "source": [
    "roots = []\n",
    "leaves = []\n",
    "for node in G.nodes :\n",
    "    if G.in_degree(node) == 0 : # it's a root\n",
    "        roots.append(node)\n",
    "    elif G.out_degree(node) == 0 : # it's a leaf\n",
    "        leaves.append(node)\n",
    "path_list=[]       \n",
    "for root in tqdm(roots) :\n",
    "    for leaf in tqdm(leaves) :\n",
    "#         longest_num=0\n",
    "#         longest_path=[]\n",
    "#         for path in tqdm(nx.all_simple_paths(G, root, leaf)) :\n",
    "#             if len(path) > longest_num:\n",
    "#                 longest_num=len(path)\n",
    "#                 longest_path=path\n",
    "        longest_path=max(nx.all_simple_paths(G, root, leaf, cutoff=100), key=lambda x: len(x),default=1)\n",
    "        if longest_path!=1:\n",
    "            path_list.append(longest_path)\n",
    "        print(len(path_list))\n"
   ]
  },
  {
   "cell_type": "code",
   "execution_count": null,
   "id": "476fbdc8",
   "metadata": {
    "ExecuteTime": {
     "end_time": "2022-02-01T00:41:06.007571Z",
     "start_time": "2022-02-01T00:41:06.002983Z"
    }
   },
   "outputs": [],
   "source": [
    "print(len(path_list[1])"
   ]
  },
  {
   "cell_type": "code",
   "execution_count": null,
   "id": "b1d3386d",
   "metadata": {
    "ExecuteTime": {
     "end_time": "2022-02-01T00:41:09.198462Z",
     "start_time": "2022-02-01T00:41:09.104780Z"
    }
   },
   "outputs": [],
   "source": [
    "with open('result/metrix/capital_longest_path.pkl', 'wb') as fp:\n",
    "    pickle.dump(path_list, fp)"
   ]
  },
  {
   "cell_type": "markdown",
   "id": "d34545ae",
   "metadata": {},
   "source": [
    "##  create distance adjacency_matrix"
   ]
  },
  {
   "cell_type": "code",
   "execution_count": null,
   "id": "446ce40b",
   "metadata": {
    "ExecuteTime": {
     "end_time": "2021-12-09T10:42:21.165235Z",
     "start_time": "2021-12-09T10:40:40.130188Z"
    }
   },
   "outputs": [],
   "source": [
    "# distance M2\n",
    "from haversine import haversine, Unit\n",
    "\n",
    "G2 = nx.DiGraph()\n",
    "for key in tqdm(connect_dic1.keys()):\n",
    "    for value in connect_dic1[key]:\n",
    "        key_latlon=(df[df['link_id']==key]['start_lat'].values[0]/128/3600,df[df['link_id']==key]['start_lon'].values[0]/128/3600)\n",
    "        value_latlon=(df[df['link_id']==value]['start_lat'].values[0]/128/3600,df[df['link_id']==value]['start_lon'].values[0]/128/3600)\n",
    "        G2.add_edge(key, value, weight=haversine(key_latlon, value_latlon)*1000)\n",
    "\n",
    "#df[df['link_id']==83585420]['start_lat'].values[0]/128/3600"
   ]
  },
  {
   "cell_type": "code",
   "execution_count": null,
   "id": "661fc750",
   "metadata": {
    "ExecuteTime": {
     "end_time": "2021-12-09T10:42:21.238816Z",
     "start_time": "2021-12-09T10:42:21.168441Z"
    }
   },
   "outputs": [],
   "source": [
    "M2=nx.to_pandas_adjacency(G2, nodelist=nodes, dtype=float)"
   ]
  },
  {
   "cell_type": "code",
   "execution_count": null,
   "id": "7c0e5606",
   "metadata": {
    "ExecuteTime": {
     "end_time": "2021-12-09T10:42:21.288954Z",
     "start_time": "2021-12-09T10:42:21.241321Z"
    }
   },
   "outputs": [],
   "source": [
    "M2"
   ]
  },
  {
   "cell_type": "code",
   "execution_count": null,
   "id": "4d9b08d5",
   "metadata": {
    "ExecuteTime": {
     "start_time": "2021-12-09T10:42:53.570Z"
    }
   },
   "outputs": [],
   "source": [
    "for row in tqdm(M2.index):\n",
    "    for column in M2:\n",
    "        key_latlon=(df[df['link_id']==row]['start_lat'].values[0]/128/3600,  df[df['link_id']==row]['start_lon'].values[0]/128/3600)\n",
    "        value_latlon=(df[df['link_id']==column]['start_lat'].values[0]/128/3600,df[df['link_id']==column]['start_lon'].values[0]/128/3600)\n",
    "        M2.at[row,column]=haversine(key_latlon, value_latlon)*1000"
   ]
  },
  {
   "cell_type": "code",
   "execution_count": null,
   "id": "5eadda69",
   "metadata": {
    "ExecuteTime": {
     "end_time": "2021-12-12T11:25:28.235601Z",
     "start_time": "2021-12-12T11:25:28.195445Z"
    }
   },
   "outputs": [],
   "source": [
    "M2"
   ]
  },
  {
   "cell_type": "code",
   "execution_count": null,
   "id": "c70a629b",
   "metadata": {
    "ExecuteTime": {
     "end_time": "2021-12-12T11:25:53.644880Z",
     "start_time": "2021-12-12T11:25:39.805797Z"
    }
   },
   "outputs": [],
   "source": [
    "M2.to_csv('result/metrix/capital_distance_relation.csv')"
   ]
  },
  {
   "cell_type": "markdown",
   "id": "52b26a56",
   "metadata": {},
   "source": [
    "## create capital_graph_link_info.csv"
   ]
  },
  {
   "cell_type": "code",
   "execution_count": null,
   "id": "5a699b7a",
   "metadata": {
    "ExecuteTime": {
     "end_time": "2022-11-30T03:58:00.243083Z",
     "start_time": "2022-11-30T03:58:00.231294Z"
    }
   },
   "outputs": [],
   "source": [
    "blinkmerged_capital_new_graph= blinkmerged_capital_new.loc[blinkmerged_capital_new[\"link_id\"].isin(nodes)][[\"link_id\",\"roadname\",\"start_lon\",\"start_lat\",\"end_lon\",\"end_lat\"]]"
   ]
  },
  {
   "cell_type": "code",
   "execution_count": null,
   "id": "96601274",
   "metadata": {
    "ExecuteTime": {
     "end_time": "2022-11-30T03:58:00.774914Z",
     "start_time": "2022-11-30T03:58:00.768501Z"
    }
   },
   "outputs": [],
   "source": [
    "blinkmerged_capital_new_graph=blinkmerged_capital_new_graph.reset_index(drop=True)"
   ]
  },
  {
   "cell_type": "code",
   "execution_count": null,
   "id": "ab60bc1f",
   "metadata": {
    "ExecuteTime": {
     "end_time": "2022-11-30T03:58:01.531227Z",
     "start_time": "2022-11-30T03:58:01.491228Z"
    }
   },
   "outputs": [],
   "source": [
    "blinkmerged_capital_new_graph=blinkmerged_capital_new_graph.apply({\"link_id\": lambda x:x,\"roadname\": lambda x:x, \"start_lon\": lambda x:x/128/3600, \"start_lat\": lambda x:x/128/3600, \"end_lon\": lambda x:x/128/3600, \"end_lat\": lambda x:x/128/3600})"
   ]
  },
  {
   "cell_type": "code",
   "execution_count": null,
   "id": "40d04d13",
   "metadata": {
    "ExecuteTime": {
     "end_time": "2022-11-30T03:58:08.960142Z",
     "start_time": "2022-11-30T03:58:08.948745Z"
    }
   },
   "outputs": [],
   "source": [
    "print(blinkmerged_capital_new_graph[\"roadname\"].unique())\n",
    "print(len(blinkmerged_capital_new_graph[\"roadname\"].unique()))"
   ]
  },
  {
   "cell_type": "code",
   "execution_count": null,
   "id": "b7524df7",
   "metadata": {
    "ExecuteTime": {
     "end_time": "2022-11-30T03:58:12.658994Z",
     "start_time": "2022-11-30T03:58:12.636615Z"
    }
   },
   "outputs": [],
   "source": [
    "blinkmerged_capital_new_graph"
   ]
  },
  {
   "cell_type": "code",
   "execution_count": null,
   "id": "5ca5345c",
   "metadata": {
    "ExecuteTime": {
     "end_time": "2022-11-30T03:58:42.893291Z",
     "start_time": "2022-11-30T03:58:42.815296Z"
    }
   },
   "outputs": [],
   "source": [
    "blinkmerged_capital_new_graph.to_csv('result/metrix/capital_graph_link_info_add_end_latlon.csv')"
   ]
  },
  {
   "cell_type": "code",
   "execution_count": null,
   "id": "d56da5f0",
   "metadata": {},
   "outputs": [],
   "source": []
  }
 ],
 "metadata": {
  "kernelspec": {
   "display_name": "jupyter-datamining",
   "language": "python",
   "name": "datamining"
  },
  "language_info": {
   "codemirror_mode": {
    "name": "ipython",
    "version": 3
   },
   "file_extension": ".py",
   "mimetype": "text/x-python",
   "name": "python",
   "nbconvert_exporter": "python",
   "pygments_lexer": "ipython3",
   "version": "3.7.9"
  },
  "toc": {
   "base_numbering": 1,
   "nav_menu": {},
   "number_sections": true,
   "sideBar": true,
   "skip_h1_title": false,
   "title_cell": "Table of Contents",
   "title_sidebar": "Contents",
   "toc_cell": false,
   "toc_position": {
    "height": "calc(100% - 180px)",
    "left": "10px",
    "top": "150px",
    "width": "222px"
   },
   "toc_section_display": true,
   "toc_window_display": true
  },
  "varInspector": {
   "cols": {
    "lenName": 16,
    "lenType": 16,
    "lenVar": 40
   },
   "kernels_config": {
    "python": {
     "delete_cmd_postfix": "",
     "delete_cmd_prefix": "del ",
     "library": "var_list.py",
     "varRefreshCmd": "print(var_dic_list())"
    },
    "r": {
     "delete_cmd_postfix": ") ",
     "delete_cmd_prefix": "rm(",
     "library": "var_list.r",
     "varRefreshCmd": "cat(var_dic_list()) "
    }
   },
   "position": {
    "height": "447.844px",
    "left": "1550px",
    "right": "20px",
    "top": "120px",
    "width": "350px"
   },
   "types_to_exclude": [
    "module",
    "function",
    "builtin_function_or_method",
    "instance",
    "_Feature"
   ],
   "window_display": true
  }
 },
 "nbformat": 4,
 "nbformat_minor": 5
}
