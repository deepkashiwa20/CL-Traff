{
 "cells": [
  {
   "cell_type": "code",
   "execution_count": 1,
   "id": "17c0bf50-69ae-4e58-8839-456c315f2566",
   "metadata": {},
   "outputs": [],
   "source": [
    "import numpy as np\n",
    "import pandas as pd"
   ]
  },
  {
   "cell_type": "code",
   "execution_count": 2,
   "id": "6ab7b365-89ae-4a4a-911d-495027f7be5c",
   "metadata": {},
   "outputs": [],
   "source": [
    "def masked_rmse(y_pred, y_true):\n",
    "    with np.errstate(divide=\"ignore\", invalid=\"ignore\"):\n",
    "        mask = np.not_equal(y_true, 0)\n",
    "        mask = mask.astype(np.float32)\n",
    "        mask /= np.mean(mask)\n",
    "        rmse = np.square(np.abs(y_pred - y_true))\n",
    "        rmse = np.nan_to_num(rmse * mask)\n",
    "        rmse = np.sqrt(np.mean(rmse))\n",
    "        return rmse\n",
    "\n",
    "def masked_mae(y_pred, y_true):\n",
    "    with np.errstate(divide=\"ignore\", invalid=\"ignore\"):\n",
    "        mask = np.not_equal(y_true, 0)\n",
    "        mask = mask.astype(np.float32)\n",
    "        mask /= np.mean(mask)\n",
    "        mae = np.abs(y_pred - y_true)\n",
    "        mae = np.nan_to_num(mae * mask)\n",
    "        mae = np.mean(mae)\n",
    "        return mae\n",
    "\n",
    "def masked_mape(y_pred, y_true, null_val=0):\n",
    "    with np.errstate(divide=\"ignore\", invalid=\"ignore\"):\n",
    "        if np.isnan(null_val):\n",
    "            mask = ~np.isnan(y_true)\n",
    "        else:\n",
    "            mask = np.not_equal(y_true, null_val)\n",
    "        mask = mask.astype(\"float32\")\n",
    "        mask /= np.mean(mask)\n",
    "        mape = np.abs(np.divide((y_pred - y_true).astype(\"float32\"), y_true))\n",
    "        mape = np.nan_to_num(mask * mape)\n",
    "        return np.mean(mape)"
   ]
  },
  {
   "cell_type": "code",
   "execution_count": 3,
   "id": "66f0607e-7da3-43c0-b12a-db3302802829",
   "metadata": {},
   "outputs": [],
   "source": [
    "def generate_graph_seq2seq_io_data(data, x_offsets, y_offsets):\n",
    "    \"\"\"\n",
    "    Generate samples from\n",
    "    :param data:\n",
    "    :param x_offsets:\n",
    "    :param y_offsets:\n",
    "    :return:\n",
    "    # x: (epoch_size, input_length, num_nodes, input_dim)\n",
    "    # y: (epoch_size, output_length, num_nodes, output_dim)\n",
    "    \"\"\"\n",
    "    # epoch_len = num_samples + min(x_offsets) - max(y_offsets)\n",
    "    num_samples = data.shape[0]\n",
    "    x, y = [], []\n",
    "    # t is the index of the last observation.\n",
    "    min_t = abs(min(x_offsets))\n",
    "    max_t = abs(num_samples - abs(max(y_offsets)))  # Exclusive\n",
    "    for t in range(min_t, max_t):\n",
    "        x_t = data[t + x_offsets, ...]\n",
    "        y_t = data[t + y_offsets, ...]\n",
    "        x.append(x_t)\n",
    "        y.append(y_t)\n",
    "    x = np.stack(x, axis=0)\n",
    "    y = np.stack(y, axis=0)\n",
    "    return x, y"
   ]
  },
  {
   "cell_type": "code",
   "execution_count": 4,
   "id": "98624d92-10c5-4b44-af10-d400fd9f1364",
   "metadata": {},
   "outputs": [],
   "source": [
    "def generate_train_val_test(data):\n",
    "    # 0 is the latest observed sample.\n",
    "    x_offsets = np.sort(\n",
    "        # np.concatenate(([-week_size + 1, -day_size + 1], np.arange(-11, 1, 1)))\n",
    "        np.concatenate((np.arange(-11, 1, 1),))\n",
    "    )\n",
    "    # Predict the next one hour\n",
    "    y_offsets = np.sort(np.arange(1, 13, 1))\n",
    "    # x: (num_samples, input_length, num_nodes, input_dim)\n",
    "    # y: (num_samples, output_length, num_nodes, output_dim)\n",
    "    x, y = generate_graph_seq2seq_io_data(data, x_offsets=x_offsets, y_offsets=y_offsets)\n",
    "\n",
    "    print(\"x shape: \", x.shape, \", y shape: \", y.shape)\n",
    "    # Write the data into npz file.\n",
    "    # num_test = 6831, using the last 6831 examples as testing.\n",
    "    # for the rest: 7/8 is used for training, and 1/8 is used for validation.\n",
    "    num_samples = x.shape[0]\n",
    "    num_test = round(num_samples * 0.2)\n",
    "    num_train = round(num_samples * 0.7)\n",
    "    num_val = num_samples - num_test - num_train\n",
    "\n",
    "    # train\n",
    "    x_train, y_train = x[:num_train], y[:num_train]\n",
    "    # val\n",
    "    x_val, y_val = (\n",
    "        x[num_train: num_train + num_val],\n",
    "        y[num_train: num_train + num_val],\n",
    "    )\n",
    "    # test\n",
    "    x_test, y_test = x[-num_test:], y[-num_test:]\n",
    "\n",
    "    return x_test, y_test\n",
    "\n",
    "#     for cat in [\"train\", \"val\", \"test\"]:\n",
    "#         _x, _y = locals()[\"x_\" + cat], locals()[\"y_\" + cat]\n",
    "#         print(cat, \"x: \", _x.shape, \"y:\", _y.shape)\n",
    "#         np.savez_compressed(\n",
    "#             os.path.join(args.output_dir, \"%s.npz\" % cat),\n",
    "#             x=_x,\n",
    "#             y=_y,\n",
    "#             x_offsets=x_offsets.reshape(list(x_offsets.shape) + [1]),\n",
    "#             y_offsets=y_offsets.reshape(list(y_offsets.shape) + [1]),\n",
    "#         )"
   ]
  },
  {
   "cell_type": "code",
   "execution_count": 5,
   "id": "31aa48fa-7167-411f-806a-c18996d27e9f",
   "metadata": {},
   "outputs": [
    {
     "data": {
      "text/html": [
       "<div>\n",
       "<style scoped>\n",
       "    .dataframe tbody tr th:only-of-type {\n",
       "        vertical-align: middle;\n",
       "    }\n",
       "\n",
       "    .dataframe tbody tr th {\n",
       "        vertical-align: top;\n",
       "    }\n",
       "\n",
       "    .dataframe thead th {\n",
       "        text-align: right;\n",
       "    }\n",
       "</style>\n",
       "<table border=\"1\" class=\"dataframe\">\n",
       "  <thead>\n",
       "    <tr style=\"text-align: right;\">\n",
       "      <th></th>\n",
       "      <th>timestamp</th>\n",
       "      <th>sensorid</th>\n",
       "      <th>speed</th>\n",
       "      <th>weekdaytime</th>\n",
       "      <th>speed_y</th>\n",
       "    </tr>\n",
       "  </thead>\n",
       "  <tbody>\n",
       "    <tr>\n",
       "      <th>0</th>\n",
       "      <td>2012-03-01 00:00:00</td>\n",
       "      <td>773869</td>\n",
       "      <td>64.375000</td>\n",
       "      <td>0.428784</td>\n",
       "      <td>63.132937</td>\n",
       "    </tr>\n",
       "    <tr>\n",
       "      <th>1</th>\n",
       "      <td>2012-03-01 00:00:00</td>\n",
       "      <td>767541</td>\n",
       "      <td>67.625000</td>\n",
       "      <td>0.428784</td>\n",
       "      <td>64.867063</td>\n",
       "    </tr>\n",
       "    <tr>\n",
       "      <th>2</th>\n",
       "      <td>2012-03-01 00:00:00</td>\n",
       "      <td>767542</td>\n",
       "      <td>67.125000</td>\n",
       "      <td>0.428784</td>\n",
       "      <td>66.170635</td>\n",
       "    </tr>\n",
       "    <tr>\n",
       "      <th>3</th>\n",
       "      <td>2012-03-01 00:00:00</td>\n",
       "      <td>717447</td>\n",
       "      <td>61.500000</td>\n",
       "      <td>0.428784</td>\n",
       "      <td>61.943452</td>\n",
       "    </tr>\n",
       "    <tr>\n",
       "      <th>4</th>\n",
       "      <td>2012-03-01 00:00:00</td>\n",
       "      <td>717446</td>\n",
       "      <td>66.875000</td>\n",
       "      <td>0.428784</td>\n",
       "      <td>65.241071</td>\n",
       "    </tr>\n",
       "    <tr>\n",
       "      <th>...</th>\n",
       "      <td>...</td>\n",
       "      <td>...</td>\n",
       "      <td>...</td>\n",
       "      <td>...</td>\n",
       "      <td>...</td>\n",
       "    </tr>\n",
       "    <tr>\n",
       "      <th>7094299</th>\n",
       "      <td>2012-06-27 23:55:00</td>\n",
       "      <td>717592</td>\n",
       "      <td>66.444444</td>\n",
       "      <td>0.428288</td>\n",
       "      <td>62.377595</td>\n",
       "    </tr>\n",
       "    <tr>\n",
       "      <th>7094300</th>\n",
       "      <td>2012-06-27 23:55:00</td>\n",
       "      <td>717595</td>\n",
       "      <td>68.444444</td>\n",
       "      <td>0.428288</td>\n",
       "      <td>66.349054</td>\n",
       "    </tr>\n",
       "    <tr>\n",
       "      <th>7094301</th>\n",
       "      <td>2012-06-27 23:55:00</td>\n",
       "      <td>772168</td>\n",
       "      <td>63.555556</td>\n",
       "      <td>0.428288</td>\n",
       "      <td>64.207723</td>\n",
       "    </tr>\n",
       "    <tr>\n",
       "      <th>7094302</th>\n",
       "      <td>2012-06-27 23:55:00</td>\n",
       "      <td>718141</td>\n",
       "      <td>68.666667</td>\n",
       "      <td>0.428288</td>\n",
       "      <td>66.785409</td>\n",
       "    </tr>\n",
       "    <tr>\n",
       "      <th>7094303</th>\n",
       "      <td>2012-06-27 23:55:00</td>\n",
       "      <td>769373</td>\n",
       "      <td>61.777778</td>\n",
       "      <td>0.428288</td>\n",
       "      <td>61.062118</td>\n",
       "    </tr>\n",
       "  </tbody>\n",
       "</table>\n",
       "<p>7094304 rows × 5 columns</p>\n",
       "</div>"
      ],
      "text/plain": [
       "                   timestamp  sensorid      speed  weekdaytime    speed_y\n",
       "0        2012-03-01 00:00:00    773869  64.375000     0.428784  63.132937\n",
       "1        2012-03-01 00:00:00    767541  67.625000     0.428784  64.867063\n",
       "2        2012-03-01 00:00:00    767542  67.125000     0.428784  66.170635\n",
       "3        2012-03-01 00:00:00    717447  61.500000     0.428784  61.943452\n",
       "4        2012-03-01 00:00:00    717446  66.875000     0.428784  65.241071\n",
       "...                      ...       ...        ...          ...        ...\n",
       "7094299  2012-06-27 23:55:00    717592  66.444444     0.428288  62.377595\n",
       "7094300  2012-06-27 23:55:00    717595  68.444444     0.428288  66.349054\n",
       "7094301  2012-06-27 23:55:00    772168  63.555556     0.428288  64.207723\n",
       "7094302  2012-06-27 23:55:00    718141  68.666667     0.428288  66.785409\n",
       "7094303  2012-06-27 23:55:00    769373  61.777778     0.428288  61.062118\n",
       "\n",
       "[7094304 rows x 5 columns]"
      ]
     },
     "execution_count": 5,
     "metadata": {},
     "output_type": "execute_result"
    }
   ],
   "source": [
    "df = pd.read_csv('./METRLA/metr-la.csv.gz')\n",
    "df"
   ]
  },
  {
   "cell_type": "code",
   "execution_count": 6,
   "id": "60d70539-463c-4d2f-bd2e-d1fb31260c1d",
   "metadata": {},
   "outputs": [
    {
     "data": {
      "text/plain": [
       "(34272, 207, 3)"
      ]
     },
     "execution_count": 6,
     "metadata": {},
     "output_type": "execute_result"
    }
   ],
   "source": [
    "data = df[['speed', 'weekdaytime', 'speed_y']].values\n",
    "data = data.reshape(-1, 207, 3)\n",
    "data.shape"
   ]
  },
  {
   "cell_type": "code",
   "execution_count": 7,
   "id": "a7ff9b52-2c16-423e-b9e7-0a256b5c3226",
   "metadata": {},
   "outputs": [
    {
     "name": "stdout",
     "output_type": "stream",
     "text": [
      "x shape:  (34249, 12, 207, 3) , y shape:  (34249, 12, 207, 3)\n",
      "x_test.shape, y_test.shape (6850, 12, 207, 3) (6850, 12, 207, 3)\n"
     ]
    }
   ],
   "source": [
    "x_test, y_test = generate_train_val_test(data)\n",
    "print('x_test.shape, y_test.shape', x_test.shape, y_test.shape)"
   ]
  },
  {
   "cell_type": "code",
   "execution_count": 8,
   "id": "65e8a743-ccd5-47c0-9e94-3f2fdadb7f03",
   "metadata": {},
   "outputs": [
    {
     "name": "stdout",
     "output_type": "stream",
     "text": [
      "y_pred.shape, y_true.shape (6850, 12, 207, 1) (6850, 12, 207, 1)\n"
     ]
    }
   ],
   "source": [
    "y_pred, y_true = y_test[:,:,:,2:3], y_test[:,:,:,0:1]\n",
    "print('y_pred.shape, y_true.shape', y_pred.shape, y_true.shape)"
   ]
  },
  {
   "cell_type": "code",
   "execution_count": 9,
   "id": "0ed9ed02-842a-4da5-b48f-8eb89f066bca",
   "metadata": {},
   "outputs": [
    {
     "name": "stdout",
     "output_type": "stream",
     "text": [
      "Horizon overall: mae: 6.8307, mape: 0.1640, rmse: 9.5298\n",
      "Horizon 15mins: mae: 6.8308, mape: 0.1640, rmse: 9.5299\n",
      "Horizon 30mins: mae: 6.8307, mape: 0.1640, rmse: 9.5298\n",
      "Horizon 60mins: mae: 6.8306, mape: 0.1640, rmse: 9.5297\n"
     ]
    }
   ],
   "source": [
    "ys_true, ys_pred = np.transpose(y_true, (1, 0, 2, 3)), np.transpose(y_pred, (1, 0, 2, 3))\n",
    "mae = masked_mae(ys_pred, ys_true)\n",
    "mape = masked_mape(ys_pred, ys_true)\n",
    "rmse = masked_rmse(ys_pred, ys_true)\n",
    "mae_3 = masked_mae(ys_pred[2:3], ys_true[2:3])\n",
    "mape_3 = masked_mape(ys_pred[2:3], ys_true[2:3])\n",
    "rmse_3 = masked_rmse(ys_pred[2:3], ys_true[2:3])\n",
    "mae_6 = masked_mae(ys_pred[5:6], ys_true[5:6])\n",
    "mape_6 = masked_mape(ys_pred[5:6], ys_true[5:6])\n",
    "rmse_6 = masked_rmse(ys_pred[5:6], ys_true[5:6])\n",
    "mae_12 = masked_mae(ys_pred[11:12], ys_true[11:12])\n",
    "mape_12 = masked_mape(ys_pred[11:12], ys_true[11:12])\n",
    "rmse_12 = masked_rmse(ys_pred[11:12], ys_true[11:12])\n",
    "print('Horizon overall: mae: {:.4f}, mape: {:.4f}, rmse: {:.4f}'.format(mae, mape, rmse))\n",
    "print('Horizon 15mins: mae: {:.4f}, mape: {:.4f}, rmse: {:.4f}'.format(mae_3, mape_3, rmse_3))\n",
    "print('Horizon 30mins: mae: {:.4f}, mape: {:.4f}, rmse: {:.4f}'.format(mae_6, mape_6, rmse_6))\n",
    "print('Horizon 60mins: mae: {:.4f}, mape: {:.4f}, rmse: {:.4f}'.format(mae_12, mape_12, rmse_12))"
   ]
  }
 ],
 "metadata": {
  "kernelspec": {
   "display_name": "Python 3",
   "language": "python",
   "name": "python3"
  },
  "language_info": {
   "codemirror_mode": {
    "name": "ipython",
    "version": 3
   },
   "file_extension": ".py",
   "mimetype": "text/x-python",
   "name": "python",
   "nbconvert_exporter": "python",
   "pygments_lexer": "ipython3",
   "version": "3.8.8"
  }
 },
 "nbformat": 4,
 "nbformat_minor": 5
}
