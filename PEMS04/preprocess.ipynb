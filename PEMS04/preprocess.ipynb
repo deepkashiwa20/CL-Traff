{
 "cells": [
  {
   "cell_type": "code",
   "execution_count": 28,
   "metadata": {
    "collapsed": true
   },
   "outputs": [],
   "source": [
    "import pandas as pd\n",
    "import numpy as np\n",
    "from datetime import datetime,timedelta\n"
   ]
  },
  {
   "cell_type": "code",
   "execution_count": 11,
   "outputs": [
    {
     "data": {
      "text/plain": "(16992, 307)"
     },
     "execution_count": 11,
     "metadata": {},
     "output_type": "execute_result"
    }
   ],
   "source": [
    "data = np.load(\"./PEMS04.npz\")[\"data\"]\n",
    "data = data [...,0]\n",
    "df=pd.DataFrame(data)\n",
    "df.shape"
   ],
   "metadata": {
    "collapsed": false
   }
  },
  {
   "cell_type": "code",
   "execution_count": 8,
   "outputs": [
    {
     "data": {
      "text/plain": "(26208, 358)"
     },
     "execution_count": 8,
     "metadata": {},
     "output_type": "execute_result"
    }
   ],
   "source": [
    "data = np.load(\"../PEMS03/PEMS03.npz\")[\"data\"]\n",
    "data = data [...,0]\n",
    "df=pd.DataFrame(data)\n",
    "df.shape"
   ],
   "metadata": {
    "collapsed": false
   }
  },
  {
   "cell_type": "code",
   "execution_count": 58,
   "outputs": [
    {
     "data": {
      "text/plain": "(28224, 883)"
     },
     "execution_count": 58,
     "metadata": {},
     "output_type": "execute_result"
    }
   ],
   "source": [
    "data = np.load(\"../PEMS07/PEMS07.npz\")[\"data\"]\n",
    "data = data [...,0]\n",
    "df=pd.DataFrame(data)\n",
    "df.shape"
   ],
   "metadata": {
    "collapsed": false
   }
  },
  {
   "cell_type": "code",
   "execution_count": 10,
   "outputs": [
    {
     "data": {
      "text/plain": "(17856, 170)"
     },
     "execution_count": 10,
     "metadata": {},
     "output_type": "execute_result"
    }
   ],
   "source": [
    "data = np.load(\"../PEMS08/PEMS08.npz\")[\"data\"]\n",
    "data = data [...,0]\n",
    "df=pd.DataFrame(data)\n",
    "df.shape"
   ],
   "metadata": {
    "collapsed": false
   }
  },
  {
   "cell_type": "code",
   "execution_count": 13,
   "outputs": [
    {
     "data": {
      "text/plain": "(16992, 307)"
     },
     "execution_count": 13,
     "metadata": {},
     "output_type": "execute_result"
    }
   ],
   "source": [
    "df.shape"
   ],
   "metadata": {
    "collapsed": false
   }
  },
  {
   "cell_type": "code",
   "execution_count": 14,
   "outputs": [
    {
     "data": {
      "text/plain": "     0     1      2     3     4     5     6     7     8     9    ...   297  \\\n0   62.0  56.0   90.0  32.0  19.0  68.0  24.0  24.0  31.0  31.0  ...   5.0   \n1   61.0  40.0   94.0  25.0  16.0  64.0  22.0   7.0  29.0  33.0  ...   0.0   \n2   71.0  28.0   79.0  36.0   9.0  60.0  25.0  11.0  25.0  46.0  ...   0.0   \n3   86.0  47.0   94.0  46.0  11.0  58.0  35.0  17.0  28.0  46.0  ...  22.0   \n4  103.0  36.0  154.0  68.0   9.0  56.0  56.0  37.0  36.0  55.0  ...   0.0   \n\n     298   299    300   301   302    303    304   305    306  \n0   86.0  54.0   54.0  62.0  37.0   90.0   56.0  48.0   38.0  \n1   86.0  46.0   41.0  59.0  38.0   91.0   51.0  30.0   35.0  \n2   67.0  59.0   58.0  59.0  34.0   56.0   67.0  31.0   45.0  \n3  101.0  82.0   75.0  74.0  75.0   42.0  126.0  64.0   81.0  \n4   97.0  88.0  109.0  90.0  61.0  127.0  200.0  63.0  104.0  \n\n[5 rows x 307 columns]",
      "text/html": "<div>\n<style scoped>\n    .dataframe tbody tr th:only-of-type {\n        vertical-align: middle;\n    }\n\n    .dataframe tbody tr th {\n        vertical-align: top;\n    }\n\n    .dataframe thead th {\n        text-align: right;\n    }\n</style>\n<table border=\"1\" class=\"dataframe\">\n  <thead>\n    <tr style=\"text-align: right;\">\n      <th></th>\n      <th>0</th>\n      <th>1</th>\n      <th>2</th>\n      <th>3</th>\n      <th>4</th>\n      <th>5</th>\n      <th>6</th>\n      <th>7</th>\n      <th>8</th>\n      <th>9</th>\n      <th>...</th>\n      <th>297</th>\n      <th>298</th>\n      <th>299</th>\n      <th>300</th>\n      <th>301</th>\n      <th>302</th>\n      <th>303</th>\n      <th>304</th>\n      <th>305</th>\n      <th>306</th>\n    </tr>\n  </thead>\n  <tbody>\n    <tr>\n      <th>0</th>\n      <td>62.0</td>\n      <td>56.0</td>\n      <td>90.0</td>\n      <td>32.0</td>\n      <td>19.0</td>\n      <td>68.0</td>\n      <td>24.0</td>\n      <td>24.0</td>\n      <td>31.0</td>\n      <td>31.0</td>\n      <td>...</td>\n      <td>5.0</td>\n      <td>86.0</td>\n      <td>54.0</td>\n      <td>54.0</td>\n      <td>62.0</td>\n      <td>37.0</td>\n      <td>90.0</td>\n      <td>56.0</td>\n      <td>48.0</td>\n      <td>38.0</td>\n    </tr>\n    <tr>\n      <th>1</th>\n      <td>61.0</td>\n      <td>40.0</td>\n      <td>94.0</td>\n      <td>25.0</td>\n      <td>16.0</td>\n      <td>64.0</td>\n      <td>22.0</td>\n      <td>7.0</td>\n      <td>29.0</td>\n      <td>33.0</td>\n      <td>...</td>\n      <td>0.0</td>\n      <td>86.0</td>\n      <td>46.0</td>\n      <td>41.0</td>\n      <td>59.0</td>\n      <td>38.0</td>\n      <td>91.0</td>\n      <td>51.0</td>\n      <td>30.0</td>\n      <td>35.0</td>\n    </tr>\n    <tr>\n      <th>2</th>\n      <td>71.0</td>\n      <td>28.0</td>\n      <td>79.0</td>\n      <td>36.0</td>\n      <td>9.0</td>\n      <td>60.0</td>\n      <td>25.0</td>\n      <td>11.0</td>\n      <td>25.0</td>\n      <td>46.0</td>\n      <td>...</td>\n      <td>0.0</td>\n      <td>67.0</td>\n      <td>59.0</td>\n      <td>58.0</td>\n      <td>59.0</td>\n      <td>34.0</td>\n      <td>56.0</td>\n      <td>67.0</td>\n      <td>31.0</td>\n      <td>45.0</td>\n    </tr>\n    <tr>\n      <th>3</th>\n      <td>86.0</td>\n      <td>47.0</td>\n      <td>94.0</td>\n      <td>46.0</td>\n      <td>11.0</td>\n      <td>58.0</td>\n      <td>35.0</td>\n      <td>17.0</td>\n      <td>28.0</td>\n      <td>46.0</td>\n      <td>...</td>\n      <td>22.0</td>\n      <td>101.0</td>\n      <td>82.0</td>\n      <td>75.0</td>\n      <td>74.0</td>\n      <td>75.0</td>\n      <td>42.0</td>\n      <td>126.0</td>\n      <td>64.0</td>\n      <td>81.0</td>\n    </tr>\n    <tr>\n      <th>4</th>\n      <td>103.0</td>\n      <td>36.0</td>\n      <td>154.0</td>\n      <td>68.0</td>\n      <td>9.0</td>\n      <td>56.0</td>\n      <td>56.0</td>\n      <td>37.0</td>\n      <td>36.0</td>\n      <td>55.0</td>\n      <td>...</td>\n      <td>0.0</td>\n      <td>97.0</td>\n      <td>88.0</td>\n      <td>109.0</td>\n      <td>90.0</td>\n      <td>61.0</td>\n      <td>127.0</td>\n      <td>200.0</td>\n      <td>63.0</td>\n      <td>104.0</td>\n    </tr>\n  </tbody>\n</table>\n<p>5 rows × 307 columns</p>\n</div>"
     },
     "execution_count": 14,
     "metadata": {},
     "output_type": "execute_result"
    }
   ],
   "source": [
    "df.head()"
   ],
   "metadata": {
    "collapsed": false
   }
  },
  {
   "cell_type": "code",
   "execution_count": 57,
   "outputs": [
    {
     "name": "stdout",
     "output_type": "stream",
     "text": [
      "2016-08-07 04:50:00\n"
     ]
    }
   ],
   "source": [
    "start_dates={\n",
    "    \"PEMS03\":\"2018-09-01 00:00:00\",\n",
    "    \"PEMS04\":\"2018-01-01 00:00:00\",\n",
    "    \"PEMS07\":\"2017-05-01 00:00:00\",\n",
    "    \"PEMS08\":\"2016-07-01 00:00:00\",\n",
    "}\n",
    "end_dates={\n",
    "    \"PEMS03\":\"2018-11-30 23:55:00\",\n",
    "    \"PEMS04\":\"2018-02-28 23:55:00\",\n",
    "    \"PEMS07\":\"2017-08-31 23:55:00\",\n",
    "    \"PEMS08\":\"2016-08-31 23:55:00\",\n",
    "}\n",
    "# 10195\n",
    "date_str = \"2017-01-01 00:00:00\"\n",
    "date_format = \"%Y-%m-%d %H:%M:%S\"\n",
    "date_obj = datetime.strptime(date_str, date_format)\n",
    "\n",
    "# 加上 100 分钟\n",
    "date_obj_plus_100_minutes = date_obj + timedelta(minutes=5*10714)\n",
    "\n",
    "# 将结果转换回字符串格式\n",
    "date_str_plus_100_minutes = date_obj_plus_100_minutes.strftime(date_format)\n",
    "print(date_str_plus_100_minutes)\n",
    "train_dates={\n",
    "    \"PEMS03\":\"2018-12-25 14:25:00\",\n",
    "    \"PEMS04\":\"2018-02-05 09:35:00\",\n",
    "    \"PEMS07\":\"2017-06-28 19:10:00\",\n",
    "    \"PEMS08\":\"2016-08-07 04:50:00\",\n",
    "}"
   ],
   "metadata": {
    "collapsed": false
   }
  },
  {
   "cell_type": "code",
   "execution_count": 31,
   "outputs": [
    {
     "data": {
      "text/plain": "                       0     1      2     3     4      5     6     7     8    \\\ntimeslots                                                                      \n2018-01-01 00:00:00   62.0  56.0   90.0  32.0  19.0   68.0  24.0  24.0  31.0   \n2018-01-01 00:05:00   61.0  40.0   94.0  25.0  16.0   64.0  22.0   7.0  29.0   \n2018-01-01 00:10:00   71.0  28.0   79.0  36.0   9.0   60.0  25.0  11.0  25.0   \n2018-01-01 00:15:00   86.0  47.0   94.0  46.0  11.0   58.0  35.0  17.0  28.0   \n2018-01-01 00:20:00  103.0  36.0  154.0  68.0   9.0   56.0  56.0  37.0  36.0   \n...                    ...   ...    ...   ...   ...    ...   ...   ...   ...   \n2018-02-28 23:35:00   68.0  78.0   85.0  53.0  17.0  168.0  90.0  23.0  27.0   \n2018-02-28 23:40:00   75.0  55.0   84.0  53.0   5.0  173.0  44.0  18.0  27.0   \n2018-02-28 23:45:00   66.0  76.0   77.0  50.0  15.0  150.0  61.0  16.0  34.0   \n2018-02-28 23:50:00   77.0  73.0   96.0  46.0   8.0  156.0  63.0  12.0  27.0   \n2018-02-28 23:55:00   74.0  71.0   64.0  43.0  10.0  137.0  40.0  13.0  33.0   \n\n                       9    ...    297    298    299    300   301    302  \\\ntimeslots                   ...                                            \n2018-01-01 00:00:00   31.0  ...    5.0   86.0   54.0   54.0  62.0   37.0   \n2018-01-01 00:05:00   33.0  ...    0.0   86.0   46.0   41.0  59.0   38.0   \n2018-01-01 00:10:00   46.0  ...    0.0   67.0   59.0   58.0  59.0   34.0   \n2018-01-01 00:15:00   46.0  ...   22.0  101.0   82.0   75.0  74.0   75.0   \n2018-01-01 00:20:00   55.0  ...    0.0   97.0   88.0  109.0  90.0   61.0   \n...                    ...  ...    ...    ...    ...    ...   ...    ...   \n2018-02-28 23:35:00   71.0  ...  235.0   94.0   97.0   68.0  68.0  168.0   \n2018-02-28 23:40:00   78.0  ...  242.0  105.0  117.0   79.0  64.0  147.0   \n2018-02-28 23:45:00  102.0  ...  246.0   88.0   98.0   59.0  64.0   97.0   \n2018-02-28 23:50:00  104.0  ...  201.0   94.0  101.0   48.0  67.0  117.0   \n2018-02-28 23:55:00   78.0  ...  208.0   88.0   93.0   50.0  60.0   89.0   \n\n                       303    304   305    306  \ntimeslots                                       \n2018-01-01 00:00:00   90.0   56.0  48.0   38.0  \n2018-01-01 00:05:00   91.0   51.0  30.0   35.0  \n2018-01-01 00:10:00   56.0   67.0  31.0   45.0  \n2018-01-01 00:15:00   42.0  126.0  64.0   81.0  \n2018-01-01 00:20:00  127.0  200.0  63.0  104.0  \n...                    ...    ...   ...    ...  \n2018-02-28 23:35:00  170.0   99.0  80.0   63.0  \n2018-02-28 23:40:00  171.0   93.0  63.0   60.0  \n2018-02-28 23:45:00  151.0   85.0  58.0   57.0  \n2018-02-28 23:50:00  165.0   69.0  52.0   43.0  \n2018-02-28 23:55:00  143.0   80.0  78.0   40.0  \n\n[16992 rows x 307 columns]",
      "text/html": "<div>\n<style scoped>\n    .dataframe tbody tr th:only-of-type {\n        vertical-align: middle;\n    }\n\n    .dataframe tbody tr th {\n        vertical-align: top;\n    }\n\n    .dataframe thead th {\n        text-align: right;\n    }\n</style>\n<table border=\"1\" class=\"dataframe\">\n  <thead>\n    <tr style=\"text-align: right;\">\n      <th></th>\n      <th>0</th>\n      <th>1</th>\n      <th>2</th>\n      <th>3</th>\n      <th>4</th>\n      <th>5</th>\n      <th>6</th>\n      <th>7</th>\n      <th>8</th>\n      <th>9</th>\n      <th>...</th>\n      <th>297</th>\n      <th>298</th>\n      <th>299</th>\n      <th>300</th>\n      <th>301</th>\n      <th>302</th>\n      <th>303</th>\n      <th>304</th>\n      <th>305</th>\n      <th>306</th>\n    </tr>\n    <tr>\n      <th>timeslots</th>\n      <th></th>\n      <th></th>\n      <th></th>\n      <th></th>\n      <th></th>\n      <th></th>\n      <th></th>\n      <th></th>\n      <th></th>\n      <th></th>\n      <th></th>\n      <th></th>\n      <th></th>\n      <th></th>\n      <th></th>\n      <th></th>\n      <th></th>\n      <th></th>\n      <th></th>\n      <th></th>\n      <th></th>\n    </tr>\n  </thead>\n  <tbody>\n    <tr>\n      <th>2018-01-01 00:00:00</th>\n      <td>62.0</td>\n      <td>56.0</td>\n      <td>90.0</td>\n      <td>32.0</td>\n      <td>19.0</td>\n      <td>68.0</td>\n      <td>24.0</td>\n      <td>24.0</td>\n      <td>31.0</td>\n      <td>31.0</td>\n      <td>...</td>\n      <td>5.0</td>\n      <td>86.0</td>\n      <td>54.0</td>\n      <td>54.0</td>\n      <td>62.0</td>\n      <td>37.0</td>\n      <td>90.0</td>\n      <td>56.0</td>\n      <td>48.0</td>\n      <td>38.0</td>\n    </tr>\n    <tr>\n      <th>2018-01-01 00:05:00</th>\n      <td>61.0</td>\n      <td>40.0</td>\n      <td>94.0</td>\n      <td>25.0</td>\n      <td>16.0</td>\n      <td>64.0</td>\n      <td>22.0</td>\n      <td>7.0</td>\n      <td>29.0</td>\n      <td>33.0</td>\n      <td>...</td>\n      <td>0.0</td>\n      <td>86.0</td>\n      <td>46.0</td>\n      <td>41.0</td>\n      <td>59.0</td>\n      <td>38.0</td>\n      <td>91.0</td>\n      <td>51.0</td>\n      <td>30.0</td>\n      <td>35.0</td>\n    </tr>\n    <tr>\n      <th>2018-01-01 00:10:00</th>\n      <td>71.0</td>\n      <td>28.0</td>\n      <td>79.0</td>\n      <td>36.0</td>\n      <td>9.0</td>\n      <td>60.0</td>\n      <td>25.0</td>\n      <td>11.0</td>\n      <td>25.0</td>\n      <td>46.0</td>\n      <td>...</td>\n      <td>0.0</td>\n      <td>67.0</td>\n      <td>59.0</td>\n      <td>58.0</td>\n      <td>59.0</td>\n      <td>34.0</td>\n      <td>56.0</td>\n      <td>67.0</td>\n      <td>31.0</td>\n      <td>45.0</td>\n    </tr>\n    <tr>\n      <th>2018-01-01 00:15:00</th>\n      <td>86.0</td>\n      <td>47.0</td>\n      <td>94.0</td>\n      <td>46.0</td>\n      <td>11.0</td>\n      <td>58.0</td>\n      <td>35.0</td>\n      <td>17.0</td>\n      <td>28.0</td>\n      <td>46.0</td>\n      <td>...</td>\n      <td>22.0</td>\n      <td>101.0</td>\n      <td>82.0</td>\n      <td>75.0</td>\n      <td>74.0</td>\n      <td>75.0</td>\n      <td>42.0</td>\n      <td>126.0</td>\n      <td>64.0</td>\n      <td>81.0</td>\n    </tr>\n    <tr>\n      <th>2018-01-01 00:20:00</th>\n      <td>103.0</td>\n      <td>36.0</td>\n      <td>154.0</td>\n      <td>68.0</td>\n      <td>9.0</td>\n      <td>56.0</td>\n      <td>56.0</td>\n      <td>37.0</td>\n      <td>36.0</td>\n      <td>55.0</td>\n      <td>...</td>\n      <td>0.0</td>\n      <td>97.0</td>\n      <td>88.0</td>\n      <td>109.0</td>\n      <td>90.0</td>\n      <td>61.0</td>\n      <td>127.0</td>\n      <td>200.0</td>\n      <td>63.0</td>\n      <td>104.0</td>\n    </tr>\n    <tr>\n      <th>...</th>\n      <td>...</td>\n      <td>...</td>\n      <td>...</td>\n      <td>...</td>\n      <td>...</td>\n      <td>...</td>\n      <td>...</td>\n      <td>...</td>\n      <td>...</td>\n      <td>...</td>\n      <td>...</td>\n      <td>...</td>\n      <td>...</td>\n      <td>...</td>\n      <td>...</td>\n      <td>...</td>\n      <td>...</td>\n      <td>...</td>\n      <td>...</td>\n      <td>...</td>\n      <td>...</td>\n    </tr>\n    <tr>\n      <th>2018-02-28 23:35:00</th>\n      <td>68.0</td>\n      <td>78.0</td>\n      <td>85.0</td>\n      <td>53.0</td>\n      <td>17.0</td>\n      <td>168.0</td>\n      <td>90.0</td>\n      <td>23.0</td>\n      <td>27.0</td>\n      <td>71.0</td>\n      <td>...</td>\n      <td>235.0</td>\n      <td>94.0</td>\n      <td>97.0</td>\n      <td>68.0</td>\n      <td>68.0</td>\n      <td>168.0</td>\n      <td>170.0</td>\n      <td>99.0</td>\n      <td>80.0</td>\n      <td>63.0</td>\n    </tr>\n    <tr>\n      <th>2018-02-28 23:40:00</th>\n      <td>75.0</td>\n      <td>55.0</td>\n      <td>84.0</td>\n      <td>53.0</td>\n      <td>5.0</td>\n      <td>173.0</td>\n      <td>44.0</td>\n      <td>18.0</td>\n      <td>27.0</td>\n      <td>78.0</td>\n      <td>...</td>\n      <td>242.0</td>\n      <td>105.0</td>\n      <td>117.0</td>\n      <td>79.0</td>\n      <td>64.0</td>\n      <td>147.0</td>\n      <td>171.0</td>\n      <td>93.0</td>\n      <td>63.0</td>\n      <td>60.0</td>\n    </tr>\n    <tr>\n      <th>2018-02-28 23:45:00</th>\n      <td>66.0</td>\n      <td>76.0</td>\n      <td>77.0</td>\n      <td>50.0</td>\n      <td>15.0</td>\n      <td>150.0</td>\n      <td>61.0</td>\n      <td>16.0</td>\n      <td>34.0</td>\n      <td>102.0</td>\n      <td>...</td>\n      <td>246.0</td>\n      <td>88.0</td>\n      <td>98.0</td>\n      <td>59.0</td>\n      <td>64.0</td>\n      <td>97.0</td>\n      <td>151.0</td>\n      <td>85.0</td>\n      <td>58.0</td>\n      <td>57.0</td>\n    </tr>\n    <tr>\n      <th>2018-02-28 23:50:00</th>\n      <td>77.0</td>\n      <td>73.0</td>\n      <td>96.0</td>\n      <td>46.0</td>\n      <td>8.0</td>\n      <td>156.0</td>\n      <td>63.0</td>\n      <td>12.0</td>\n      <td>27.0</td>\n      <td>104.0</td>\n      <td>...</td>\n      <td>201.0</td>\n      <td>94.0</td>\n      <td>101.0</td>\n      <td>48.0</td>\n      <td>67.0</td>\n      <td>117.0</td>\n      <td>165.0</td>\n      <td>69.0</td>\n      <td>52.0</td>\n      <td>43.0</td>\n    </tr>\n    <tr>\n      <th>2018-02-28 23:55:00</th>\n      <td>74.0</td>\n      <td>71.0</td>\n      <td>64.0</td>\n      <td>43.0</td>\n      <td>10.0</td>\n      <td>137.0</td>\n      <td>40.0</td>\n      <td>13.0</td>\n      <td>33.0</td>\n      <td>78.0</td>\n      <td>...</td>\n      <td>208.0</td>\n      <td>88.0</td>\n      <td>93.0</td>\n      <td>50.0</td>\n      <td>60.0</td>\n      <td>89.0</td>\n      <td>143.0</td>\n      <td>80.0</td>\n      <td>78.0</td>\n      <td>40.0</td>\n    </tr>\n  </tbody>\n</table>\n<p>16992 rows × 307 columns</p>\n</div>"
     },
     "execution_count": 31,
     "metadata": {},
     "output_type": "execute_result"
    }
   ],
   "source": [
    "dataset_name=\"PEMS04\"\n",
    "data = np.load(\"./PEMS04.npz\")[\"data\"]\n",
    "data = data [...,0]\n",
    "df=pd.DataFrame(data)\n",
    "df.shape\n",
    "timeslots = pd.date_range(start_dates[dataset_name], end_dates[dataset_name], freq='5min')\n",
    "len(timeslots)\n",
    "df.insert(0,'timeslots',timeslots)\n",
    "df_new = df.set_index('timeslots',drop=True, append=False, inplace=False, verify_integrity=False)\n",
    "\n",
    "df_new"
   ],
   "metadata": {
    "collapsed": false
   }
  },
  {
   "cell_type": "code",
   "execution_count": 32,
   "outputs": [
    {
     "data": {
      "text/plain": "                  timestamp  sensorid  speed  timeinday  weekdaytime\n0       2018-01-01 00:00:00         0   62.0   0.000000            0\n1       2018-01-01 00:00:00         1   56.0   0.000000            0\n2       2018-01-01 00:00:00         2   90.0   0.000000            0\n3       2018-01-01 00:00:00         3   32.0   0.000000            0\n4       2018-01-01 00:00:00         4   19.0   0.000000            0\n...                     ...       ...    ...        ...          ...\n5216539 2018-02-28 23:55:00       302   89.0   0.996528          863\n5216540 2018-02-28 23:55:00       303  143.0   0.996528          863\n5216541 2018-02-28 23:55:00       304   80.0   0.996528          863\n5216542 2018-02-28 23:55:00       305   78.0   0.996528          863\n5216543 2018-02-28 23:55:00       306   40.0   0.996528          863\n\n[5216544 rows x 5 columns]",
      "text/html": "<div>\n<style scoped>\n    .dataframe tbody tr th:only-of-type {\n        vertical-align: middle;\n    }\n\n    .dataframe tbody tr th {\n        vertical-align: top;\n    }\n\n    .dataframe thead th {\n        text-align: right;\n    }\n</style>\n<table border=\"1\" class=\"dataframe\">\n  <thead>\n    <tr style=\"text-align: right;\">\n      <th></th>\n      <th>timestamp</th>\n      <th>sensorid</th>\n      <th>speed</th>\n      <th>timeinday</th>\n      <th>weekdaytime</th>\n    </tr>\n  </thead>\n  <tbody>\n    <tr>\n      <th>0</th>\n      <td>2018-01-01 00:00:00</td>\n      <td>0</td>\n      <td>62.0</td>\n      <td>0.000000</td>\n      <td>0</td>\n    </tr>\n    <tr>\n      <th>1</th>\n      <td>2018-01-01 00:00:00</td>\n      <td>1</td>\n      <td>56.0</td>\n      <td>0.000000</td>\n      <td>0</td>\n    </tr>\n    <tr>\n      <th>2</th>\n      <td>2018-01-01 00:00:00</td>\n      <td>2</td>\n      <td>90.0</td>\n      <td>0.000000</td>\n      <td>0</td>\n    </tr>\n    <tr>\n      <th>3</th>\n      <td>2018-01-01 00:00:00</td>\n      <td>3</td>\n      <td>32.0</td>\n      <td>0.000000</td>\n      <td>0</td>\n    </tr>\n    <tr>\n      <th>4</th>\n      <td>2018-01-01 00:00:00</td>\n      <td>4</td>\n      <td>19.0</td>\n      <td>0.000000</td>\n      <td>0</td>\n    </tr>\n    <tr>\n      <th>...</th>\n      <td>...</td>\n      <td>...</td>\n      <td>...</td>\n      <td>...</td>\n      <td>...</td>\n    </tr>\n    <tr>\n      <th>5216539</th>\n      <td>2018-02-28 23:55:00</td>\n      <td>302</td>\n      <td>89.0</td>\n      <td>0.996528</td>\n      <td>863</td>\n    </tr>\n    <tr>\n      <th>5216540</th>\n      <td>2018-02-28 23:55:00</td>\n      <td>303</td>\n      <td>143.0</td>\n      <td>0.996528</td>\n      <td>863</td>\n    </tr>\n    <tr>\n      <th>5216541</th>\n      <td>2018-02-28 23:55:00</td>\n      <td>304</td>\n      <td>80.0</td>\n      <td>0.996528</td>\n      <td>863</td>\n    </tr>\n    <tr>\n      <th>5216542</th>\n      <td>2018-02-28 23:55:00</td>\n      <td>305</td>\n      <td>78.0</td>\n      <td>0.996528</td>\n      <td>863</td>\n    </tr>\n    <tr>\n      <th>5216543</th>\n      <td>2018-02-28 23:55:00</td>\n      <td>306</td>\n      <td>40.0</td>\n      <td>0.996528</td>\n      <td>863</td>\n    </tr>\n  </tbody>\n</table>\n<p>5216544 rows × 5 columns</p>\n</div>"
     },
     "execution_count": 32,
     "metadata": {},
     "output_type": "execute_result"
    }
   ],
   "source": [
    "data = df_new.stack().reset_index()\n",
    "data.columns = ['timestamp', 'sensorid', 'speed']\n",
    "data['timeinday'] = (data['timestamp'].values - data['timestamp'].values.astype(\"datetime64[D]\")) / np.timedelta64(1, \"D\")\n",
    "data['timestamp'] = pd.to_datetime(data['timestamp'])\n",
    "data['weekdaytime'] = data['timestamp'].dt.weekday * 288 + (data['timestamp'].dt.hour * 60 + data['timestamp'].dt.minute)//5\n",
    "data"
   ],
   "metadata": {
    "collapsed": false
   }
  },
  {
   "cell_type": "code",
   "execution_count": 33,
   "outputs": [
    {
     "data": {
      "text/plain": "                  timestamp  sensorid  speed  timeinday  weekdaytime\n0       2018-01-01 00:00:00         0   62.0   0.000000            0\n1       2018-01-01 00:00:00         1   56.0   0.000000            0\n2       2018-01-01 00:00:00         2   90.0   0.000000            0\n3       2018-01-01 00:00:00         3   32.0   0.000000            0\n4       2018-01-01 00:00:00         4   19.0   0.000000            0\n...                     ...       ...    ...        ...          ...\n3130167 2018-02-05 09:35:00       302  184.0   0.399306          115\n3130168 2018-02-05 09:35:00       303  156.0   0.399306          115\n3130169 2018-02-05 09:35:00       304  522.0   0.399306          115\n3130170 2018-02-05 09:35:00       305  144.0   0.399306          115\n3130171 2018-02-05 09:35:00       306  229.0   0.399306          115\n\n[3130172 rows x 5 columns]",
      "text/html": "<div>\n<style scoped>\n    .dataframe tbody tr th:only-of-type {\n        vertical-align: middle;\n    }\n\n    .dataframe tbody tr th {\n        vertical-align: top;\n    }\n\n    .dataframe thead th {\n        text-align: right;\n    }\n</style>\n<table border=\"1\" class=\"dataframe\">\n  <thead>\n    <tr style=\"text-align: right;\">\n      <th></th>\n      <th>timestamp</th>\n      <th>sensorid</th>\n      <th>speed</th>\n      <th>timeinday</th>\n      <th>weekdaytime</th>\n    </tr>\n  </thead>\n  <tbody>\n    <tr>\n      <th>0</th>\n      <td>2018-01-01 00:00:00</td>\n      <td>0</td>\n      <td>62.0</td>\n      <td>0.000000</td>\n      <td>0</td>\n    </tr>\n    <tr>\n      <th>1</th>\n      <td>2018-01-01 00:00:00</td>\n      <td>1</td>\n      <td>56.0</td>\n      <td>0.000000</td>\n      <td>0</td>\n    </tr>\n    <tr>\n      <th>2</th>\n      <td>2018-01-01 00:00:00</td>\n      <td>2</td>\n      <td>90.0</td>\n      <td>0.000000</td>\n      <td>0</td>\n    </tr>\n    <tr>\n      <th>3</th>\n      <td>2018-01-01 00:00:00</td>\n      <td>3</td>\n      <td>32.0</td>\n      <td>0.000000</td>\n      <td>0</td>\n    </tr>\n    <tr>\n      <th>4</th>\n      <td>2018-01-01 00:00:00</td>\n      <td>4</td>\n      <td>19.0</td>\n      <td>0.000000</td>\n      <td>0</td>\n    </tr>\n    <tr>\n      <th>...</th>\n      <td>...</td>\n      <td>...</td>\n      <td>...</td>\n      <td>...</td>\n      <td>...</td>\n    </tr>\n    <tr>\n      <th>3130167</th>\n      <td>2018-02-05 09:35:00</td>\n      <td>302</td>\n      <td>184.0</td>\n      <td>0.399306</td>\n      <td>115</td>\n    </tr>\n    <tr>\n      <th>3130168</th>\n      <td>2018-02-05 09:35:00</td>\n      <td>303</td>\n      <td>156.0</td>\n      <td>0.399306</td>\n      <td>115</td>\n    </tr>\n    <tr>\n      <th>3130169</th>\n      <td>2018-02-05 09:35:00</td>\n      <td>304</td>\n      <td>522.0</td>\n      <td>0.399306</td>\n      <td>115</td>\n    </tr>\n    <tr>\n      <th>3130170</th>\n      <td>2018-02-05 09:35:00</td>\n      <td>305</td>\n      <td>144.0</td>\n      <td>0.399306</td>\n      <td>115</td>\n    </tr>\n    <tr>\n      <th>3130171</th>\n      <td>2018-02-05 09:35:00</td>\n      <td>306</td>\n      <td>229.0</td>\n      <td>0.399306</td>\n      <td>115</td>\n    </tr>\n  </tbody>\n</table>\n<p>3130172 rows × 5 columns</p>\n</div>"
     },
     "execution_count": 33,
     "metadata": {},
     "output_type": "execute_result"
    }
   ],
   "source": [
    "df_train = data[(data.timestamp >= start_dates[dataset_name]) & (data.timestamp <= train_dates[dataset_name])]\n",
    "df_train"
   ],
   "metadata": {
    "collapsed": false
   }
  },
  {
   "cell_type": "code",
   "execution_count": 34,
   "outputs": [
    {
     "data": {
      "text/plain": "        sensorid  weekdaytime      speed\n0              0            0  72.500000\n1              0            1  60.333333\n2              0            2  67.666667\n3              0            3  65.833333\n4              0            4  62.833333\n...          ...          ...        ...\n618907       306         2011  59.000000\n618908       306         2012  53.000000\n618909       306         2013  46.000000\n618910       306         2014  39.000000\n618911       306         2015  42.000000\n\n[618912 rows x 3 columns]",
      "text/html": "<div>\n<style scoped>\n    .dataframe tbody tr th:only-of-type {\n        vertical-align: middle;\n    }\n\n    .dataframe tbody tr th {\n        vertical-align: top;\n    }\n\n    .dataframe thead th {\n        text-align: right;\n    }\n</style>\n<table border=\"1\" class=\"dataframe\">\n  <thead>\n    <tr style=\"text-align: right;\">\n      <th></th>\n      <th>sensorid</th>\n      <th>weekdaytime</th>\n      <th>speed</th>\n    </tr>\n  </thead>\n  <tbody>\n    <tr>\n      <th>0</th>\n      <td>0</td>\n      <td>0</td>\n      <td>72.500000</td>\n    </tr>\n    <tr>\n      <th>1</th>\n      <td>0</td>\n      <td>1</td>\n      <td>60.333333</td>\n    </tr>\n    <tr>\n      <th>2</th>\n      <td>0</td>\n      <td>2</td>\n      <td>67.666667</td>\n    </tr>\n    <tr>\n      <th>3</th>\n      <td>0</td>\n      <td>3</td>\n      <td>65.833333</td>\n    </tr>\n    <tr>\n      <th>4</th>\n      <td>0</td>\n      <td>4</td>\n      <td>62.833333</td>\n    </tr>\n    <tr>\n      <th>...</th>\n      <td>...</td>\n      <td>...</td>\n      <td>...</td>\n    </tr>\n    <tr>\n      <th>618907</th>\n      <td>306</td>\n      <td>2011</td>\n      <td>59.000000</td>\n    </tr>\n    <tr>\n      <th>618908</th>\n      <td>306</td>\n      <td>2012</td>\n      <td>53.000000</td>\n    </tr>\n    <tr>\n      <th>618909</th>\n      <td>306</td>\n      <td>2013</td>\n      <td>46.000000</td>\n    </tr>\n    <tr>\n      <th>618910</th>\n      <td>306</td>\n      <td>2014</td>\n      <td>39.000000</td>\n    </tr>\n    <tr>\n      <th>618911</th>\n      <td>306</td>\n      <td>2015</td>\n      <td>42.000000</td>\n    </tr>\n  </tbody>\n</table>\n<p>618912 rows × 3 columns</p>\n</div>"
     },
     "execution_count": 34,
     "metadata": {},
     "output_type": "execute_result"
    }
   ],
   "source": [
    "df_train = df_train[['sensorid', 'weekdaytime', 'speed']]\n",
    "def get_mean_without_null_values(data, null_val=0.):\n",
    "        return data[data != null_val].mean()\n",
    "df_train_avg = df_train.groupby(['sensorid', 'weekdaytime']).aggregate({'speed': get_mean_without_null_values}).reset_index()\n",
    "df_train_avg"
   ],
   "metadata": {
    "collapsed": false
   }
  },
  {
   "cell_type": "code",
   "execution_count": 50,
   "outputs": [
    {
     "data": {
      "text/plain": "                  timestamp  sensorid  speed  timeinday  weekdaytime  speed_y\n0       2018-01-01 00:00:00         0   62.0   0.000000            0     72.5\n1       2018-01-08 00:00:00         0   77.0   0.000000            0     72.5\n2       2018-01-15 00:00:00         0   82.0   0.000000            0     72.5\n3       2018-01-22 00:00:00         0   68.0   0.000000            0     72.5\n4       2018-01-29 00:00:00         0   84.0   0.000000            0     72.5\n...                     ...       ...    ...        ...          ...      ...\n5216539 2018-01-28 23:55:00       306   44.0   0.996528         2015     42.0\n5216540 2018-02-04 23:55:00       306   39.0   0.996528         2015     42.0\n5216541 2018-02-11 23:55:00       306   36.0   0.996528         2015     42.0\n5216542 2018-02-18 23:55:00       306   62.0   0.996528         2015     42.0\n5216543 2018-02-25 23:55:00       306   41.0   0.996528         2015     42.0\n\n[5216544 rows x 6 columns]",
      "text/html": "<div>\n<style scoped>\n    .dataframe tbody tr th:only-of-type {\n        vertical-align: middle;\n    }\n\n    .dataframe tbody tr th {\n        vertical-align: top;\n    }\n\n    .dataframe thead th {\n        text-align: right;\n    }\n</style>\n<table border=\"1\" class=\"dataframe\">\n  <thead>\n    <tr style=\"text-align: right;\">\n      <th></th>\n      <th>timestamp</th>\n      <th>sensorid</th>\n      <th>speed</th>\n      <th>timeinday</th>\n      <th>weekdaytime</th>\n      <th>speed_y</th>\n    </tr>\n  </thead>\n  <tbody>\n    <tr>\n      <th>0</th>\n      <td>2018-01-01 00:00:00</td>\n      <td>0</td>\n      <td>62.0</td>\n      <td>0.000000</td>\n      <td>0</td>\n      <td>72.5</td>\n    </tr>\n    <tr>\n      <th>1</th>\n      <td>2018-01-08 00:00:00</td>\n      <td>0</td>\n      <td>77.0</td>\n      <td>0.000000</td>\n      <td>0</td>\n      <td>72.5</td>\n    </tr>\n    <tr>\n      <th>2</th>\n      <td>2018-01-15 00:00:00</td>\n      <td>0</td>\n      <td>82.0</td>\n      <td>0.000000</td>\n      <td>0</td>\n      <td>72.5</td>\n    </tr>\n    <tr>\n      <th>3</th>\n      <td>2018-01-22 00:00:00</td>\n      <td>0</td>\n      <td>68.0</td>\n      <td>0.000000</td>\n      <td>0</td>\n      <td>72.5</td>\n    </tr>\n    <tr>\n      <th>4</th>\n      <td>2018-01-29 00:00:00</td>\n      <td>0</td>\n      <td>84.0</td>\n      <td>0.000000</td>\n      <td>0</td>\n      <td>72.5</td>\n    </tr>\n    <tr>\n      <th>...</th>\n      <td>...</td>\n      <td>...</td>\n      <td>...</td>\n      <td>...</td>\n      <td>...</td>\n      <td>...</td>\n    </tr>\n    <tr>\n      <th>5216539</th>\n      <td>2018-01-28 23:55:00</td>\n      <td>306</td>\n      <td>44.0</td>\n      <td>0.996528</td>\n      <td>2015</td>\n      <td>42.0</td>\n    </tr>\n    <tr>\n      <th>5216540</th>\n      <td>2018-02-04 23:55:00</td>\n      <td>306</td>\n      <td>39.0</td>\n      <td>0.996528</td>\n      <td>2015</td>\n      <td>42.0</td>\n    </tr>\n    <tr>\n      <th>5216541</th>\n      <td>2018-02-11 23:55:00</td>\n      <td>306</td>\n      <td>36.0</td>\n      <td>0.996528</td>\n      <td>2015</td>\n      <td>42.0</td>\n    </tr>\n    <tr>\n      <th>5216542</th>\n      <td>2018-02-18 23:55:00</td>\n      <td>306</td>\n      <td>62.0</td>\n      <td>0.996528</td>\n      <td>2015</td>\n      <td>42.0</td>\n    </tr>\n    <tr>\n      <th>5216543</th>\n      <td>2018-02-25 23:55:00</td>\n      <td>306</td>\n      <td>41.0</td>\n      <td>0.996528</td>\n      <td>2015</td>\n      <td>42.0</td>\n    </tr>\n  </tbody>\n</table>\n<p>5216544 rows × 6 columns</p>\n</div>"
     },
     "execution_count": 50,
     "metadata": {},
     "output_type": "execute_result"
    }
   ],
   "source": [
    "data_his = pd.merge(data, df_train_avg, on=['sensorid', 'weekdaytime'], suffixes=(None, '_y'))\n",
    "data_his"
   ],
   "metadata": {
    "collapsed": false
   }
  },
  {
   "cell_type": "code",
   "execution_count": 51,
   "outputs": [
    {
     "data": {
      "text/plain": "                  timestamp  sensorid  speed  timeinday     speed_y\n0       2018-01-01 00:00:00         0   62.0   0.000000   72.500000\n1       2018-01-01 00:00:00         1   56.0   0.000000   44.666667\n2       2018-01-01 00:00:00         2   90.0   0.000000   81.500000\n3       2018-01-01 00:00:00         3   32.0   0.000000   37.666667\n4       2018-01-01 00:00:00         4   19.0   0.000000   14.333333\n...                     ...       ...    ...        ...         ...\n5216539 2018-02-28 23:55:00       302   89.0   0.996528   64.400000\n5216540 2018-02-28 23:55:00       303  143.0   0.996528  138.400000\n5216541 2018-02-28 23:55:00       304   80.0   0.996528   55.200000\n5216542 2018-02-28 23:55:00       305   78.0   0.996528   58.200000\n5216543 2018-02-28 23:55:00       306   40.0   0.996528   37.000000\n\n[5216544 rows x 5 columns]",
      "text/html": "<div>\n<style scoped>\n    .dataframe tbody tr th:only-of-type {\n        vertical-align: middle;\n    }\n\n    .dataframe tbody tr th {\n        vertical-align: top;\n    }\n\n    .dataframe thead th {\n        text-align: right;\n    }\n</style>\n<table border=\"1\" class=\"dataframe\">\n  <thead>\n    <tr style=\"text-align: right;\">\n      <th></th>\n      <th>timestamp</th>\n      <th>sensorid</th>\n      <th>speed</th>\n      <th>timeinday</th>\n      <th>speed_y</th>\n    </tr>\n  </thead>\n  <tbody>\n    <tr>\n      <th>0</th>\n      <td>2018-01-01 00:00:00</td>\n      <td>0</td>\n      <td>62.0</td>\n      <td>0.000000</td>\n      <td>72.500000</td>\n    </tr>\n    <tr>\n      <th>1</th>\n      <td>2018-01-01 00:00:00</td>\n      <td>1</td>\n      <td>56.0</td>\n      <td>0.000000</td>\n      <td>44.666667</td>\n    </tr>\n    <tr>\n      <th>2</th>\n      <td>2018-01-01 00:00:00</td>\n      <td>2</td>\n      <td>90.0</td>\n      <td>0.000000</td>\n      <td>81.500000</td>\n    </tr>\n    <tr>\n      <th>3</th>\n      <td>2018-01-01 00:00:00</td>\n      <td>3</td>\n      <td>32.0</td>\n      <td>0.000000</td>\n      <td>37.666667</td>\n    </tr>\n    <tr>\n      <th>4</th>\n      <td>2018-01-01 00:00:00</td>\n      <td>4</td>\n      <td>19.0</td>\n      <td>0.000000</td>\n      <td>14.333333</td>\n    </tr>\n    <tr>\n      <th>...</th>\n      <td>...</td>\n      <td>...</td>\n      <td>...</td>\n      <td>...</td>\n      <td>...</td>\n    </tr>\n    <tr>\n      <th>5216539</th>\n      <td>2018-02-28 23:55:00</td>\n      <td>302</td>\n      <td>89.0</td>\n      <td>0.996528</td>\n      <td>64.400000</td>\n    </tr>\n    <tr>\n      <th>5216540</th>\n      <td>2018-02-28 23:55:00</td>\n      <td>303</td>\n      <td>143.0</td>\n      <td>0.996528</td>\n      <td>138.400000</td>\n    </tr>\n    <tr>\n      <th>5216541</th>\n      <td>2018-02-28 23:55:00</td>\n      <td>304</td>\n      <td>80.0</td>\n      <td>0.996528</td>\n      <td>55.200000</td>\n    </tr>\n    <tr>\n      <th>5216542</th>\n      <td>2018-02-28 23:55:00</td>\n      <td>305</td>\n      <td>78.0</td>\n      <td>0.996528</td>\n      <td>58.200000</td>\n    </tr>\n    <tr>\n      <th>5216543</th>\n      <td>2018-02-28 23:55:00</td>\n      <td>306</td>\n      <td>40.0</td>\n      <td>0.996528</td>\n      <td>37.000000</td>\n    </tr>\n  </tbody>\n</table>\n<p>5216544 rows × 5 columns</p>\n</div>"
     },
     "execution_count": 51,
     "metadata": {},
     "output_type": "execute_result"
    }
   ],
   "source": [
    "sensorid_list = df_new.columns\n",
    "timeslices = df_new.index\n",
    "mux = pd.MultiIndex.from_product([timeslices, sensorid_list], names=['timestamp', 'sensorid'])\n",
    "data_his = data_his.set_index(['timestamp', 'sensorid']).reindex(mux).reset_index()\n",
    "data_his = data_his[['timestamp', 'sensorid', 'speed', 'timeinday', 'speed_y']]\n",
    "data_his"
   ],
   "metadata": {
    "collapsed": false
   }
  },
  {
   "cell_type": "code",
   "execution_count": 53,
   "outputs": [
    {
     "name": "stdout",
     "output_type": "stream",
     "text": [
      "True\n"
     ]
    }
   ],
   "source": [
    "print(np.array_equal(data_his['speed'].values.reshape(-1, 307), df_new.values))"
   ],
   "metadata": {
    "collapsed": false
   }
  },
  {
   "cell_type": "code",
   "execution_count": null,
   "outputs": [],
   "source": [],
   "metadata": {
    "collapsed": false
   }
  }
 ],
 "metadata": {
  "kernelspec": {
   "display_name": "Python 3",
   "language": "python",
   "name": "python3"
  },
  "language_info": {
   "codemirror_mode": {
    "name": "ipython",
    "version": 2
   },
   "file_extension": ".py",
   "mimetype": "text/x-python",
   "name": "python",
   "nbconvert_exporter": "python",
   "pygments_lexer": "ipython2",
   "version": "2.7.6"
  }
 },
 "nbformat": 4,
 "nbformat_minor": 0
}
